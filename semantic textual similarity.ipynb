{
 "cells": [
  {
   "cell_type": "markdown",
   "id": "f292e010-c3e8-471f-a974-5144f5858532",
   "metadata": {},
   "source": [
    "## Model the Brazilian tweet dataset using semantic similarity\n",
    "code references: \\\n",
    "https://huggingface.co/tasks/sentence-similarity \\\n",
    "https://www.sbert.net/ \\\n",
    "https://towardsdatascience.com/semantic-textual-similarity-83b3ca4a840e"
   ]
  },
  {
   "cell_type": "code",
   "execution_count": 1,
   "id": "fcc17511-1ca1-4526-9c5a-99bef81b5415",
   "metadata": {},
   "outputs": [],
   "source": [
    "import pandas as pd\n",
    "import numpy as np"
   ]
  },
  {
   "cell_type": "code",
   "execution_count": 8,
   "id": "37139b0d-fcce-4bb3-8608-2169ff33b8ec",
   "metadata": {},
   "outputs": [],
   "source": [
    "from sentence_transformers import SentenceTransformer\n",
    "from sentence_transformers import util"
   ]
  },
  {
   "cell_type": "code",
   "execution_count": 35,
   "id": "7365a72d-d800-4c94-9137-c01f73393154",
   "metadata": {},
   "outputs": [],
   "source": [
    "from time import time\n",
    "import matplotlib.pyplot as plt"
   ]
  },
  {
   "cell_type": "markdown",
   "id": "ef4cd1a9-79b3-4d4e-9bb0-6265356d4de2",
   "metadata": {
    "tags": []
   },
   "source": [
    "### use sentance transformers"
   ]
  },
  {
   "cell_type": "code",
   "execution_count": 3,
   "id": "72971b42-ba4a-4eab-9c07-4b57d9c34b11",
   "metadata": {
    "collapsed": true,
    "jupyter": {
     "outputs_hidden": true
    },
    "tags": []
   },
   "outputs": [
    {
     "data": {
      "application/vnd.jupyter.widget-view+json": {
       "model_id": "bf33af7bc30149a899746fbfc6955f7f",
       "version_major": 2,
       "version_minor": 0
      },
      "text/plain": [
       "Downloading (…)e9125/.gitattributes:   0%|          | 0.00/1.18k [00:00<?, ?B/s]"
      ]
     },
     "metadata": {},
     "output_type": "display_data"
    },
    {
     "data": {
      "application/vnd.jupyter.widget-view+json": {
       "model_id": "6ef5a5542baa47acbe5c5d3a1dc21ee9",
       "version_major": 2,
       "version_minor": 0
      },
      "text/plain": [
       "Downloading (…)_Pooling/config.json:   0%|          | 0.00/190 [00:00<?, ?B/s]"
      ]
     },
     "metadata": {},
     "output_type": "display_data"
    },
    {
     "data": {
      "application/vnd.jupyter.widget-view+json": {
       "model_id": "0077c1b7a3e64cfd85156ba65ebeaf7e",
       "version_major": 2,
       "version_minor": 0
      },
      "text/plain": [
       "Downloading (…)7e55de9125/README.md:   0%|          | 0.00/10.6k [00:00<?, ?B/s]"
      ]
     },
     "metadata": {},
     "output_type": "display_data"
    },
    {
     "data": {
      "application/vnd.jupyter.widget-view+json": {
       "model_id": "bfdac7e1156045089bb473acdb831616",
       "version_major": 2,
       "version_minor": 0
      },
      "text/plain": [
       "Downloading (…)55de9125/config.json:   0%|          | 0.00/612 [00:00<?, ?B/s]"
      ]
     },
     "metadata": {},
     "output_type": "display_data"
    },
    {
     "data": {
      "application/vnd.jupyter.widget-view+json": {
       "model_id": "d340739f59154e94937b8960a194fa69",
       "version_major": 2,
       "version_minor": 0
      },
      "text/plain": [
       "Downloading (…)ce_transformers.json:   0%|          | 0.00/116 [00:00<?, ?B/s]"
      ]
     },
     "metadata": {},
     "output_type": "display_data"
    },
    {
     "data": {
      "application/vnd.jupyter.widget-view+json": {
       "model_id": "7f533b55ffbf4f999ca20284f7acaf7b",
       "version_major": 2,
       "version_minor": 0
      },
      "text/plain": [
       "Downloading (…)125/data_config.json:   0%|          | 0.00/39.3k [00:00<?, ?B/s]"
      ]
     },
     "metadata": {},
     "output_type": "display_data"
    },
    {
     "data": {
      "application/vnd.jupyter.widget-view+json": {
       "model_id": "6b3499da2e9d41599945e6ccfd724562",
       "version_major": 2,
       "version_minor": 0
      },
      "text/plain": [
       "Downloading pytorch_model.bin:   0%|          | 0.00/90.9M [00:00<?, ?B/s]"
      ]
     },
     "metadata": {},
     "output_type": "display_data"
    },
    {
     "data": {
      "application/vnd.jupyter.widget-view+json": {
       "model_id": "8d477f0b70fc498e9e75e831c606fc55",
       "version_major": 2,
       "version_minor": 0
      },
      "text/plain": [
       "Downloading (…)nce_bert_config.json:   0%|          | 0.00/53.0 [00:00<?, ?B/s]"
      ]
     },
     "metadata": {},
     "output_type": "display_data"
    },
    {
     "data": {
      "application/vnd.jupyter.widget-view+json": {
       "model_id": "1fae6ee7cae6411787889552fe53c594",
       "version_major": 2,
       "version_minor": 0
      },
      "text/plain": [
       "Downloading (…)cial_tokens_map.json:   0%|          | 0.00/112 [00:00<?, ?B/s]"
      ]
     },
     "metadata": {},
     "output_type": "display_data"
    },
    {
     "data": {
      "application/vnd.jupyter.widget-view+json": {
       "model_id": "86e205b304764b389d43a830e0f39423",
       "version_major": 2,
       "version_minor": 0
      },
      "text/plain": [
       "Downloading (…)e9125/tokenizer.json:   0%|          | 0.00/466k [00:00<?, ?B/s]"
      ]
     },
     "metadata": {},
     "output_type": "display_data"
    },
    {
     "data": {
      "application/vnd.jupyter.widget-view+json": {
       "model_id": "69a05a90bb714dab90dae7e1ed96395f",
       "version_major": 2,
       "version_minor": 0
      },
      "text/plain": [
       "Downloading (…)okenizer_config.json:   0%|          | 0.00/350 [00:00<?, ?B/s]"
      ]
     },
     "metadata": {},
     "output_type": "display_data"
    },
    {
     "data": {
      "application/vnd.jupyter.widget-view+json": {
       "model_id": "609133b751a948ee9ed026afb543b2e4",
       "version_major": 2,
       "version_minor": 0
      },
      "text/plain": [
       "Downloading (…)9125/train_script.py:   0%|          | 0.00/13.2k [00:00<?, ?B/s]"
      ]
     },
     "metadata": {},
     "output_type": "display_data"
    },
    {
     "data": {
      "application/vnd.jupyter.widget-view+json": {
       "model_id": "0818878c641246fcbad495d67e686565",
       "version_major": 2,
       "version_minor": 0
      },
      "text/plain": [
       "Downloading (…)7e55de9125/vocab.txt:   0%|          | 0.00/232k [00:00<?, ?B/s]"
      ]
     },
     "metadata": {},
     "output_type": "display_data"
    },
    {
     "data": {
      "application/vnd.jupyter.widget-view+json": {
       "model_id": "96a6efbfed6b47b2aa5621f18ce37482",
       "version_major": 2,
       "version_minor": 0
      },
      "text/plain": [
       "Downloading (…)5de9125/modules.json:   0%|          | 0.00/349 [00:00<?, ?B/s]"
      ]
     },
     "metadata": {},
     "output_type": "display_data"
    },
    {
     "name": "stdout",
     "output_type": "stream",
     "text": [
      "Sentence: This framework generates embeddings for each input sentence\n",
      "Embedding: [-1.37173459e-02 -4.28515263e-02 -1.56286247e-02  1.40537536e-02\n",
      "  3.95537727e-02  1.21796325e-01  2.94333640e-02 -3.17523852e-02\n",
      "  3.54959480e-02 -7.93139860e-02  1.75878443e-02 -4.04369384e-02\n",
      "  4.97259498e-02  2.54912544e-02 -7.18700439e-02  8.14968571e-02\n",
      "  1.47069583e-03  4.79627103e-02 -4.50336039e-02 -9.92175341e-02\n",
      " -2.81769466e-02  6.45046085e-02  4.44670431e-02 -4.76216935e-02\n",
      " -3.52952629e-02  4.38671745e-02 -5.28565943e-02  4.33011563e-04\n",
      "  1.01921491e-01  1.64072290e-02  3.26996557e-02 -3.45986746e-02\n",
      "  1.21339597e-02  7.94871002e-02  4.58340580e-03  1.57778189e-02\n",
      " -9.68208816e-03  2.87625697e-02 -5.05805984e-02 -1.55793950e-02\n",
      " -2.87906844e-02 -9.62282252e-03  3.15556303e-02  2.27348972e-02\n",
      "  8.71449485e-02 -3.85027491e-02 -8.84718448e-02 -8.75498727e-03\n",
      " -2.12343019e-02  2.08923742e-02 -9.02077705e-02 -5.25732450e-02\n",
      " -1.05638448e-02  2.88311020e-02 -1.61455069e-02  6.17842888e-03\n",
      " -1.23234615e-02 -1.07337013e-02  2.83353925e-02 -5.28567508e-02\n",
      " -3.58618200e-02 -5.97989149e-02 -1.09055387e-02  2.91566588e-02\n",
      "  7.97979087e-02 -3.27868591e-04  6.83501037e-03  1.32718273e-02\n",
      " -4.24619652e-02  1.87656768e-02 -9.89234298e-02  2.09049843e-02\n",
      " -8.69605467e-02 -1.50152165e-02 -4.86202240e-02  8.04414675e-02\n",
      " -3.67700052e-03 -6.65044412e-02  1.14556760e-01 -3.04228794e-02\n",
      "  2.96631809e-02 -2.80695297e-02  4.64990251e-02 -2.25513801e-02\n",
      "  8.54222998e-02  3.15446891e-02  7.34541416e-02 -2.21862067e-02\n",
      " -5.29678762e-02  1.27130104e-02 -5.27339615e-02 -1.06188789e-01\n",
      "  7.04731569e-02  2.76736729e-02 -8.05531591e-02  2.39649378e-02\n",
      " -2.65124813e-02 -2.17330642e-02  4.35275547e-02  4.84711789e-02\n",
      " -2.37067193e-02  2.85767801e-02  1.11846134e-01 -6.34936020e-02\n",
      " -1.58318263e-02 -2.26169582e-02 -1.31027587e-02 -1.62071991e-03\n",
      " -3.60928923e-02 -9.78297070e-02 -4.67729047e-02  1.76271871e-02\n",
      " -3.97492461e-02 -1.76453308e-04  3.39627527e-02 -2.09633447e-02\n",
      "  6.33663731e-03 -2.59411316e-02  8.10410231e-02  6.14393353e-02\n",
      " -5.44594601e-03  6.48276061e-02 -1.16844095e-01  2.36860868e-02\n",
      " -1.32058822e-02 -1.12476468e-01  1.90049298e-02 -1.74659474e-34\n",
      "  5.58949970e-02  1.94244906e-02  4.65438738e-02  5.18645607e-02\n",
      "  3.89390588e-02  3.40541080e-02 -4.32114378e-02  7.90637061e-02\n",
      " -9.79530066e-02 -1.27441362e-02 -2.91870628e-02  1.02051981e-02\n",
      "  1.88115537e-02  1.08942538e-01  6.63465112e-02 -5.35295196e-02\n",
      " -3.29228677e-02  4.69827242e-02  2.28882935e-02  2.74114758e-02\n",
      " -2.91982945e-02  3.12706493e-02 -2.22850777e-02 -1.02282204e-01\n",
      " -2.79117078e-02  1.13793556e-02  9.06308442e-02 -4.75414395e-02\n",
      " -1.00718938e-01 -1.23232026e-02 -7.96928555e-02 -1.44636175e-02\n",
      " -7.76400790e-02 -7.66918808e-03  9.73954704e-03  2.24204548e-02\n",
      "  7.77268112e-02 -3.17159016e-03  2.11538207e-02 -3.30393985e-02\n",
      "  9.55245178e-03 -3.73011641e-02  2.61360556e-02 -9.79088247e-03\n",
      " -6.31505251e-02  5.77435084e-03 -3.80030796e-02  1.29684685e-02\n",
      " -1.82498973e-02 -1.56283118e-02 -1.23362627e-03  5.55579476e-02\n",
      "  1.13055787e-04 -5.61256669e-02  7.40165189e-02  1.84452031e-02\n",
      " -2.66368371e-02  1.31951738e-02  7.50086978e-02 -2.46796981e-02\n",
      " -3.24006155e-02 -1.57675017e-02 -8.03516526e-03 -5.61318453e-03\n",
      "  1.05687790e-02  3.26163857e-03 -3.91989797e-02 -9.38677490e-02\n",
      "  1.14227176e-01  6.57304600e-02 -4.72633652e-02  1.45087661e-02\n",
      " -3.54490578e-02 -3.37761492e-02 -5.15506119e-02 -3.81006091e-03\n",
      " -5.15036434e-02 -5.93429543e-02 -1.69415120e-03  7.42107704e-02\n",
      " -4.20091674e-02 -7.19974935e-02  3.17249782e-02 -1.66303441e-02\n",
      "  3.96985374e-03 -6.52750582e-02  2.77391095e-02 -7.51649216e-02\n",
      "  2.27456074e-02 -3.91368195e-02  1.54316127e-02 -5.54908291e-02\n",
      "  1.23318667e-02 -2.59520877e-02  6.66423365e-02 -6.91260152e-34\n",
      "  3.31628956e-02  8.47929120e-02 -6.65584058e-02  3.33541594e-02\n",
      "  4.71610529e-03  1.35361804e-02 -5.38694225e-02  9.20694247e-02\n",
      " -2.96876654e-02  3.16219665e-02 -2.37497278e-02  1.98771022e-02\n",
      "  1.03446223e-01 -9.06947330e-02  6.30625384e-03  1.42886452e-02\n",
      "  1.19293490e-02  6.43727183e-03  4.20104265e-02  1.25344219e-02\n",
      "  3.93019803e-02  5.35691492e-02 -4.30750065e-02  6.10432588e-02\n",
      " -5.39524917e-05  6.91682398e-02  1.05520058e-02  1.22111803e-02\n",
      " -7.23184645e-02  2.50469837e-02 -5.18371165e-02 -4.36561853e-02\n",
      " -6.71818703e-02  1.34828296e-02 -7.25888535e-02  7.04166992e-03\n",
      "  6.58939630e-02  1.08994804e-02 -2.60010571e-03  5.49969189e-02\n",
      "  5.06966710e-02  3.27948183e-02 -6.68832958e-02  6.45557567e-02\n",
      " -2.52076164e-02 -2.92572007e-02 -1.16696730e-01  3.24064493e-02\n",
      "  5.85858449e-02 -3.51756439e-02 -7.15240166e-02  2.24935859e-02\n",
      " -1.00786723e-01 -4.74545024e-02 -7.61962906e-02 -5.87166362e-02\n",
      "  4.21138331e-02 -7.47213587e-02  1.98468063e-02 -3.36506357e-03\n",
      " -5.29736467e-02  2.74729617e-02  3.45737040e-02 -6.11846782e-02\n",
      "  1.06364839e-01 -9.64119881e-02 -4.55944985e-02  1.51489694e-02\n",
      " -5.13528613e-03 -6.64447322e-02  4.31721583e-02 -1.10405525e-02\n",
      " -9.80246533e-03  7.53783211e-02 -1.49570815e-02 -4.80208471e-02\n",
      "  5.80726489e-02 -2.43896637e-02 -2.23137774e-02 -4.36992347e-02\n",
      "  5.12054078e-02 -3.28625850e-02  1.08763322e-01  6.08926788e-02\n",
      "  3.30792717e-03  5.53820059e-02  8.43201131e-02  1.27087291e-02\n",
      "  3.84465344e-02  6.52325973e-02 -2.94683687e-02  5.08005284e-02\n",
      " -2.09348109e-02  1.46135688e-01  2.25561447e-02 -1.77227761e-08\n",
      " -5.02672568e-02 -2.79259344e-04 -1.00328594e-01  2.42811255e-02\n",
      " -7.54043609e-02 -3.79139818e-02  3.96050178e-02  3.10079809e-02\n",
      " -9.05700121e-03 -6.50411770e-02  4.05452810e-02  4.83390130e-02\n",
      " -4.56962399e-02  4.76004463e-03  2.64364388e-03  9.35613960e-02\n",
      " -4.02599610e-02  3.27402353e-02  1.18298214e-02  5.54344654e-02\n",
      "  1.48052216e-01  7.21189082e-02  2.76941719e-04  1.68651324e-02\n",
      "  8.34884215e-03 -8.76157451e-03 -1.33649698e-02  6.14237338e-02\n",
      "  1.57167800e-02  6.94960579e-02  1.08621670e-02  6.08018115e-02\n",
      " -5.33421412e-02 -3.47924270e-02 -3.36272120e-02  6.93906620e-02\n",
      "  1.22987805e-02 -1.45237371e-01 -2.06971867e-03 -4.61132303e-02\n",
      "  3.72748147e-03 -5.59358019e-03 -1.00659840e-01 -4.45953384e-02\n",
      "  5.40921427e-02  4.98893578e-03  1.49534550e-02 -8.26059580e-02\n",
      "  6.26630932e-02 -5.01908455e-03 -4.81857732e-02 -3.53991352e-02\n",
      "  9.03388113e-03 -2.42337845e-02  5.66267148e-02  2.51528900e-02\n",
      " -1.70709025e-02 -1.24780005e-02  3.19518745e-02  1.38420770e-02\n",
      " -1.55814895e-02  1.00178257e-01  1.23657234e-01 -4.22967039e-02]\n",
      "\n",
      "Sentence: Sentences are passed as a list of string.\n",
      "Embedding: [ 5.64524941e-02  5.50023876e-02  3.13796066e-02  3.39485109e-02\n",
      " -3.54247279e-02  8.34667385e-02  9.88801122e-02  7.27542490e-03\n",
      " -6.68662647e-03 -7.65812304e-03  7.93738216e-02  7.39652431e-04\n",
      "  1.49291903e-02 -1.51046962e-02  3.67674157e-02  4.78742979e-02\n",
      " -4.81969938e-02 -3.76052074e-02 -4.60278057e-02 -8.89816433e-02\n",
      "  1.20228142e-01  1.30663216e-01 -3.73936333e-02  2.47856858e-03\n",
      "  2.55819294e-03  7.25814924e-02 -6.80436492e-02 -5.24696037e-02\n",
      "  4.90233824e-02  2.99562961e-02 -5.84429502e-02 -2.02263314e-02\n",
      "  2.08821893e-02  9.76692140e-02  3.52390558e-02  3.91140990e-02\n",
      "  1.05668418e-02  1.56230840e-03 -1.30822835e-02  8.52907728e-03\n",
      " -4.84093465e-03 -2.03766748e-02 -2.71800626e-02  2.83307526e-02\n",
      "  3.66017893e-02  2.51276176e-02 -9.90861952e-02  1.15626082e-02\n",
      " -3.60380225e-02 -7.23783970e-02 -1.12670094e-01  1.12942513e-02\n",
      " -3.86397354e-02  4.67386022e-02 -2.88460646e-02  2.26703640e-02\n",
      " -8.52400344e-03  3.32815014e-02 -1.06581382e-03 -7.09745288e-02\n",
      " -6.31170645e-02 -5.72187006e-02 -6.16026111e-02  5.47146201e-02\n",
      "  1.18317753e-02 -4.66261357e-02  2.56959777e-02 -7.07413722e-03\n",
      " -5.73842861e-02  4.12839353e-02 -5.91503382e-02  5.89021668e-02\n",
      " -4.41697761e-02  4.65081297e-02 -3.15814093e-02  5.58312535e-02\n",
      "  5.54578491e-02 -5.96533529e-02  4.06407304e-02  4.83762100e-03\n",
      " -4.96768169e-02 -1.00944363e-01  3.40078063e-02  4.13268385e-03\n",
      " -2.93522584e-03  2.11837944e-02 -3.73962522e-02 -2.79067252e-02\n",
      " -4.61767763e-02  5.26138581e-02 -2.79735029e-02 -1.62379235e-01\n",
      "  6.61042407e-02  1.72274467e-02 -5.45107108e-03  4.74473909e-02\n",
      " -3.82236913e-02 -3.96896899e-02  1.34544531e-02  4.49653640e-02\n",
      "  4.53671021e-03  2.82978825e-02  8.36632997e-02 -1.00858444e-02\n",
      " -1.19353965e-01 -3.84624153e-02  4.82859015e-02 -9.46083814e-02\n",
      "  1.91854499e-02 -9.96518582e-02 -6.30596578e-02  3.02696209e-02\n",
      "  1.17402552e-02 -4.78372499e-02 -6.20268984e-03 -3.32850665e-02\n",
      " -4.04388783e-03  1.28307212e-02  4.05254364e-02  7.56476596e-02\n",
      "  2.92434990e-02  2.84270123e-02 -2.78938953e-02  1.66857988e-02\n",
      " -2.47961804e-02 -6.83650821e-02  2.89968830e-02 -5.39867821e-33\n",
      " -2.69014109e-03 -2.65069362e-02 -6.47932990e-04 -8.46199691e-03\n",
      " -7.35154673e-02  4.94081108e-03 -5.97842187e-02  1.03438003e-02\n",
      "  2.12903344e-03 -2.88213952e-03 -3.17076817e-02 -9.42364857e-02\n",
      "  3.03019863e-02  7.00226724e-02  4.50685546e-02  3.69439460e-02\n",
      "  1.13593526e-02  3.53026912e-02  5.50445821e-03  1.34412420e-03\n",
      "  3.46120074e-03  7.75047764e-02  5.45112565e-02 -7.92055652e-02\n",
      " -9.31696668e-02 -4.03398424e-02  3.10668927e-02 -3.83081548e-02\n",
      " -5.89443035e-02  1.93331931e-02 -2.67159808e-02 -7.91938305e-02\n",
      "  1.04183819e-04  7.70621523e-02  4.16603573e-02  8.90932679e-02\n",
      "  3.56843285e-02 -1.09153111e-02  3.71498801e-02 -2.07070056e-02\n",
      " -2.46100929e-02 -2.05025449e-02  2.62201466e-02  3.43590975e-02\n",
      "  4.39250842e-02 -8.20520427e-03 -8.40710476e-02  4.24171165e-02\n",
      "  4.87499088e-02  5.95385097e-02  2.87747569e-02  3.37638445e-02\n",
      " -4.07443158e-02 -1.66371127e-03  7.91927502e-02  3.41088325e-02\n",
      " -5.72814432e-04  1.87749900e-02 -1.36963893e-02  7.38332346e-02\n",
      "  5.74504957e-04  8.33505169e-02  5.60810752e-02 -1.13710752e-02\n",
      "  4.42611575e-02  2.69581992e-02 -4.80535850e-02 -3.15087289e-02\n",
      "  7.75226355e-02  1.81773044e-02 -8.83005485e-02 -7.85520207e-03\n",
      " -6.22243024e-02  7.19372481e-02 -2.33475305e-02  6.52483664e-03\n",
      " -9.49527137e-03 -9.88313332e-02  4.01306897e-02  3.07396706e-02\n",
      " -2.21607424e-02 -9.45910439e-02  1.02367476e-02  1.02187753e-01\n",
      " -4.12960015e-02 -3.15777697e-02  4.74751666e-02 -1.10209815e-01\n",
      "  1.69614386e-02 -3.71709615e-02 -1.03261909e-02 -4.72538471e-02\n",
      " -1.20213917e-02 -1.93255097e-02  5.79292439e-02  4.23866595e-34\n",
      "  3.92013304e-02  8.41361731e-02 -1.02946684e-01  6.92259446e-02\n",
      "  1.68821309e-02 -3.26761194e-02  9.65961069e-03  1.80899184e-02\n",
      "  2.17940044e-02  1.63189918e-02 -9.69292074e-02  3.74850631e-03\n",
      " -2.38457080e-02 -3.44055742e-02  7.11963251e-02  9.21874831e-04\n",
      " -6.23857090e-03  3.23754065e-02 -8.90363473e-04  5.01905242e-03\n",
      " -4.24537994e-02  9.89083797e-02 -4.60320637e-02  4.69704680e-02\n",
      " -1.75284501e-02 -7.02515291e-03  1.32743763e-02 -5.30151725e-02\n",
      "  2.66408571e-03  1.45819290e-02  7.43346149e-03 -3.07131782e-02\n",
      " -2.09416077e-02  8.24110731e-02 -5.15893809e-02 -2.71178633e-02\n",
      "  1.17583029e-01  7.72507070e-03 -1.89523138e-02  3.94559763e-02\n",
      "  7.17360154e-02  2.59116981e-02  2.75191851e-02  9.50544048e-03\n",
      " -3.02355234e-02 -4.07944284e-02 -1.04028471e-01 -7.97420181e-03\n",
      " -3.64455162e-03  3.29716280e-02 -2.35954504e-02 -7.50512024e-03\n",
      " -5.82234301e-02 -3.17906179e-02 -4.18049134e-02  2.17453614e-02\n",
      " -6.67292103e-02 -4.89104167e-02  4.58518416e-03 -2.66046617e-02\n",
      " -1.12597041e-01  5.11167571e-02  5.48534654e-02 -6.69857487e-02\n",
      "  1.26766279e-01 -8.59487504e-02 -5.94231412e-02 -2.92189675e-03\n",
      " -1.14875883e-02 -1.26025811e-01 -3.48276668e-03 -9.12001655e-02\n",
      " -1.22933082e-01  1.33777475e-02 -4.75775525e-02 -6.57933280e-02\n",
      " -3.39410193e-02 -3.07107493e-02 -5.22033907e-02 -2.35463735e-02\n",
      "  5.90035319e-02 -3.85757908e-02  3.19701098e-02  4.05118801e-02\n",
      "  1.67077873e-02 -3.58281136e-02  1.45688392e-02  3.20137739e-02\n",
      " -1.34843895e-02  6.07819781e-02 -8.31395481e-03 -1.08105978e-02\n",
      "  4.69410792e-02  7.66133741e-02 -4.23400216e-02 -2.11963318e-08\n",
      " -7.25292936e-02 -4.20228057e-02 -6.12374544e-02  5.24666272e-02\n",
      " -1.42363654e-02  1.18487058e-02 -1.40789207e-02 -3.67530137e-02\n",
      " -4.44977544e-02 -1.15140462e-02  5.23316897e-02  2.96651721e-02\n",
      " -4.62780185e-02 -3.70892696e-02  1.89129785e-02  2.04307027e-02\n",
      " -2.24006306e-02 -1.48562724e-02 -1.79504212e-02  4.20007855e-02\n",
      "  1.40942559e-02 -2.83492506e-02 -1.16863027e-01  1.48956673e-02\n",
      " -7.30608066e-04  5.66027835e-02 -2.68739872e-02  1.09106690e-01\n",
      "  2.94566969e-03  1.19267896e-01  1.14212446e-01  8.92973915e-02\n",
      " -1.70255136e-02 -4.99054119e-02 -2.11931076e-02  3.18421461e-02\n",
      "  7.03436136e-02 -1.02929443e-01  8.23816806e-02  2.81968694e-02\n",
      "  3.21146324e-02  3.79107744e-02 -1.09553114e-01  8.19620267e-02\n",
      "  8.73216391e-02 -5.73564097e-02 -2.01709121e-02 -5.69444336e-02\n",
      " -1.30338408e-02 -5.55684231e-02 -1.32966228e-02  8.64009466e-03\n",
      "  5.30012511e-02 -4.06846926e-02  2.71709263e-02 -2.55948678e-03\n",
      "  3.05775627e-02 -4.61865366e-02  4.68035415e-03 -3.64946462e-02\n",
      "  6.80802315e-02  6.65087476e-02  8.49152207e-02 -3.32848951e-02]\n",
      "\n",
      "Sentence: The quick brown fox jumps over the lazy dog.\n",
      "Embedding: [ 4.39335182e-02  5.89344166e-02  4.81783673e-02  7.75481462e-02\n",
      "  2.67443806e-02 -3.76295708e-02 -2.60509993e-03 -5.99430427e-02\n",
      " -2.49599875e-03  2.20728554e-02  4.80259135e-02  5.57553135e-02\n",
      " -3.89454328e-02 -2.66168155e-02  7.69336708e-03 -2.62376461e-02\n",
      " -3.64160985e-02 -3.78161632e-02  7.40781650e-02 -4.95050699e-02\n",
      " -5.85217103e-02 -6.36196807e-02  3.24350186e-02  2.20085327e-02\n",
      " -7.10637569e-02 -3.31577659e-02 -6.94104359e-02 -5.00374325e-02\n",
      "  7.46267959e-02 -1.11133806e-01 -1.23062972e-02  3.77456062e-02\n",
      " -2.80313250e-02  1.45353647e-02 -3.15585770e-02 -8.05836096e-02\n",
      "  5.83525747e-02  2.59003695e-03  3.92802320e-02  2.57695802e-02\n",
      "  4.98505868e-02 -1.75623188e-03 -4.55298014e-02  2.92607509e-02\n",
      " -1.02017224e-01  5.22287376e-02 -7.90899917e-02 -1.02857873e-02\n",
      "  9.20249801e-03  1.30732469e-02 -4.04777527e-02 -2.77925748e-02\n",
      "  1.24667203e-02  6.72833323e-02  6.81247860e-02 -7.57118128e-03\n",
      " -6.09937776e-03 -4.23777066e-02  5.17815836e-02 -1.56707279e-02\n",
      "  9.56358016e-03  4.12390493e-02  2.14958899e-02  1.04293888e-02\n",
      "  2.73349807e-02  1.87062193e-02 -2.69607753e-02 -7.00542107e-02\n",
      " -1.04700491e-01 -1.89875579e-03  1.77016947e-02 -5.74725568e-02\n",
      " -1.44223301e-02  4.70472412e-04  2.33227341e-03 -2.51920316e-02\n",
      "  4.93004210e-02 -5.09609580e-02  6.31983280e-02  1.49165038e-02\n",
      " -2.70766970e-02 -4.52875756e-02 -4.90594245e-02  3.74940373e-02\n",
      "  3.84579860e-02  1.56905851e-03  3.09922248e-02  2.01630555e-02\n",
      " -1.24363555e-02 -3.06719709e-02 -2.78819297e-02 -6.89182580e-02\n",
      " -5.13677485e-02  2.14795638e-02  1.15746707e-02  1.25411397e-03\n",
      "  1.88765693e-02 -4.42318879e-02 -4.49817516e-02 -3.41869169e-03\n",
      "  1.31131485e-02  2.00099647e-02  1.21099800e-01  2.31074672e-02\n",
      " -2.20159795e-02 -3.28846835e-02 -3.15515767e-03  1.17833304e-04\n",
      "  9.91498530e-02  1.65238865e-02 -4.69671609e-03 -1.45366807e-02\n",
      " -3.71077470e-03  9.65136141e-02  2.85908096e-02  2.13481952e-02\n",
      " -7.17644989e-02 -2.41141934e-02 -4.40940522e-02 -1.07346885e-01\n",
      "  6.79945797e-02  1.30466774e-01 -7.97029883e-02  6.79506408e-03\n",
      " -2.37511899e-02 -4.61636558e-02 -2.99650524e-02 -3.69410010e-33\n",
      "  7.30969831e-02 -2.20171716e-02 -8.61464590e-02 -7.14379773e-02\n",
      " -6.36741817e-02 -7.21863434e-02 -5.93043398e-03 -2.33641881e-02\n",
      " -2.83658281e-02  4.77434769e-02 -8.06176215e-02 -1.56477420e-03\n",
      "  1.38443662e-02 -2.86236163e-02 -3.35386619e-02 -1.13777533e-01\n",
      " -9.17631015e-03 -1.08101033e-02  3.23196314e-02  5.88380471e-02\n",
      "  3.34209576e-02  1.07987896e-01 -3.72713283e-02 -2.96770930e-02\n",
      "  5.17189950e-02 -2.25338992e-02 -6.96091130e-02 -2.14475300e-02\n",
      " -2.33410913e-02  4.82199751e-02 -3.58766355e-02 -4.68990877e-02\n",
      " -3.97873968e-02  1.10813215e-01 -1.43007413e-02 -1.18464477e-01\n",
      "  5.82915209e-02 -6.25889227e-02 -2.94041038e-02  6.03238456e-02\n",
      " -2.44411663e-03  1.60115883e-02  2.67233662e-02  2.49530431e-02\n",
      " -6.49318621e-02 -1.06801931e-02  2.81465147e-02  1.03563219e-02\n",
      " -6.63600571e-04  1.98186245e-02 -3.04288380e-02  6.28422387e-03\n",
      "  5.15268520e-02 -4.75375056e-02 -6.44421354e-02  9.55032110e-02\n",
      "  7.55858421e-02 -2.81574987e-02 -3.49966064e-02  1.01816393e-01\n",
      "  1.98732968e-02 -3.68036926e-02  2.93524098e-03 -5.00745289e-02\n",
      "  1.50932133e-01 -6.16079345e-02 -8.58812928e-02  7.13987323e-03\n",
      " -1.33065898e-02  7.80405179e-02  1.75250676e-02  4.21279296e-02\n",
      "  3.57939899e-02 -1.32950410e-01  3.56970467e-02 -2.03116536e-02\n",
      "  1.24909915e-02 -3.80355828e-02  4.91542779e-02 -1.56540517e-02\n",
      "  1.21418200e-01 -8.08644593e-02 -4.68781814e-02  4.10842933e-02\n",
      " -1.84318274e-02  6.69690669e-02  4.33597434e-03  2.27315575e-02\n",
      " -1.36428801e-02 -4.53238897e-02 -3.92829366e-02 -6.29888522e-03\n",
      "  5.29609881e-02 -3.69064435e-02  7.11676925e-02  2.33343251e-33\n",
      "  1.05231352e-01 -4.81874570e-02  6.95919394e-02  6.56976402e-02\n",
      " -4.65149246e-02  5.14492467e-02 -1.24475341e-02  3.20872068e-02\n",
      " -9.23356563e-02  5.00932559e-02 -3.28876562e-02  1.39138801e-02\n",
      " -8.70182412e-04 -4.90904041e-03  1.03946395e-01  3.21638625e-04\n",
      "  5.28110266e-02 -1.17990114e-02  2.31565423e-02  1.31768165e-02\n",
      " -5.25962748e-02  3.26702558e-02  3.08663264e-04  6.41128942e-02\n",
      "  3.88500802e-02  5.88008426e-02  8.29793215e-02 -1.88149605e-02\n",
      " -2.26377212e-02 -1.00473650e-01 -3.83752398e-02 -5.88081628e-02\n",
      "  1.82421750e-03 -4.26995195e-02  2.50194911e-02  6.40060082e-02\n",
      " -3.77482884e-02 -6.83901086e-03 -2.54604709e-03 -9.76042673e-02\n",
      "  1.88476276e-02 -8.83175875e-04  1.73611585e-02  7.10790753e-02\n",
      "  3.30393501e-02  6.93419948e-03 -5.60523197e-02  5.14634661e-02\n",
      " -4.29542400e-02  4.60077152e-02 -8.78832862e-03  3.17289643e-02\n",
      "  4.93965559e-02  2.95190215e-02 -5.05192317e-02 -5.43186925e-02\n",
      "  1.49938875e-04 -2.76614539e-02  3.46878506e-02 -2.10890714e-02\n",
      "  1.38060031e-02  2.99887061e-02  1.39744366e-02 -4.26472398e-03\n",
      " -1.50336949e-02 -8.76095518e-02 -6.85053617e-02 -4.28141505e-02\n",
      "  7.76945353e-02 -7.10285753e-02 -7.37690274e-03  2.13727243e-02\n",
      "  1.35562178e-02 -7.90464655e-02  5.47670294e-03  8.30663666e-02\n",
      "  1.14148058e-01  1.80759560e-03  8.75490904e-02 -4.16044891e-02\n",
      "  1.55416178e-02 -1.01206284e-02 -7.32439477e-03  1.07966382e-02\n",
      " -6.62816837e-02  3.98414023e-02 -1.16711542e-01  6.42993897e-02\n",
      "  4.02919725e-02 -6.54741302e-02  1.95052642e-02  8.09995607e-02\n",
      "  5.36463261e-02  7.67969638e-02 -1.34852203e-02 -1.76919048e-08\n",
      " -4.43935134e-02  9.20646265e-03 -8.79590511e-02  4.26921546e-02\n",
      "  7.31365234e-02  1.68426987e-02 -4.03262787e-02  1.85131021e-02\n",
      "  8.44172314e-02 -3.74477245e-02  3.02996188e-02  2.90641654e-02\n",
      "  6.36879131e-02  2.89750379e-02 -1.47269834e-02  1.77543201e-02\n",
      " -3.36895585e-02  1.73161812e-02  3.37875374e-02  1.76826045e-01\n",
      " -1.75533351e-02 -6.03078268e-02 -1.43394545e-02 -2.38536447e-02\n",
      " -4.45530973e-02 -2.89850179e-02 -8.96776319e-02 -1.75940723e-03\n",
      " -2.61486508e-02  5.93999540e-03 -5.18355407e-02  8.57279897e-02\n",
      " -8.18399042e-02  8.35440960e-03  4.00790423e-02  4.17764597e-02\n",
      "  1.04573570e-01 -2.86564883e-03  1.96690690e-02  5.81048988e-03\n",
      "  1.33253401e-02  4.51000817e-02 -2.17588004e-02 -1.39492862e-02\n",
      " -6.86992779e-02 -2.94113974e-03 -3.10764927e-02 -1.05854422e-01\n",
      "  6.91624135e-02 -4.24114913e-02 -4.67682295e-02 -3.64751145e-02\n",
      "  4.50400189e-02  6.09816313e-02 -6.56561330e-02 -5.45640383e-03\n",
      " -1.86227001e-02 -6.31484538e-02 -3.87437046e-02  3.46734077e-02\n",
      "  5.55458404e-02  5.21627851e-02  5.61065190e-02  1.02063887e-01]\n",
      "\n"
     ]
    }
   ],
   "source": [
    "model = SentenceTransformer('all-MiniLM-L6-v2')\n",
    "\n",
    "#Our sentences we like to encode\n",
    "sentences = ['This framework generates embeddings for each input sentence',\n",
    "    'Sentences are passed as a list of string.',\n",
    "    'The quick brown fox jumps over the lazy dog.']\n",
    "\n",
    "#Sentences are encoded by calling model.encode()\n",
    "embeddings = model.encode(sentences)\n",
    "\n",
    "#Print the embeddings\n",
    "for sentence, embedding in zip(sentences, embeddings):\n",
    "    print(\"Sentence:\", sentence)\n",
    "    print(\"Embedding:\", embedding)\n",
    "    print(\"\")"
   ]
  },
  {
   "cell_type": "code",
   "execution_count": 9,
   "id": "6e5b5652-9a48-4212-9120-5dff61a50077",
   "metadata": {},
   "outputs": [
    {
     "data": {
      "text/plain": [
       "tensor([[0.5381]])"
      ]
     },
     "execution_count": 9,
     "metadata": {},
     "output_type": "execute_result"
    }
   ],
   "source": [
    "# to compare two embeddings, use cosine similarity\n",
    "similarity = util.pytorch_cos_sim(embeddings[0, :], embeddings[1, :])\n",
    "similarity"
   ]
  },
  {
   "cell_type": "markdown",
   "id": "fa95382f-dc61-4543-8076-74c3277a7683",
   "metadata": {
    "jp-MarkdownHeadingCollapsed": true,
    "tags": []
   },
   "source": [
    "#### English examples"
   ]
  },
  {
   "cell_type": "code",
   "execution_count": 29,
   "id": "3275d180-ef5b-4056-a16d-270d62d8dcc4",
   "metadata": {},
   "outputs": [
    {
     "name": "stdout",
     "output_type": "stream",
     "text": [
      "Sentence: There is a dire need of masks in the province of Alberta.\n",
      "similarity score: tensor([[0.6094]])\n",
      "\n",
      "Sentence: We may need more batteries for the machines to run smoothly.\n",
      "similarity score: tensor([[0.1267]])\n",
      "\n",
      "Sentence: The masks in this department are all up to the quality standards\n",
      "similarity score: tensor([[0.5937]])\n",
      "\n",
      "Sentence: Go down the path and turn left, and you will see the ice cream store.\n",
      "similarity score: tensor([[0.1063]])\n",
      "\n"
     ]
    }
   ],
   "source": [
    "# now try to put it all together\n",
    "\n",
    "#original_topic = 'personal protective equipment shortage'\n",
    "original_topic = 'mask shortage'\n",
    "#original_topic = 'protective shortage'\n",
    "\n",
    "sentences = [\n",
    "    'There is a dire need of masks in the province of Alberta.',             # shortage of PPE\n",
    "    'We may need more batteries for the machines to run smoothly.',          # shortage of unrelated items\n",
    "    'The masks in this department are all up to the quality standards',      # not shortage but mentioned PPE\n",
    "    'Go down the path and turn left, and you will see the ice cream store.', # unrelated topic\n",
    "]\n",
    "\n",
    "#Sentences are encoded by calling model.encode()\n",
    "embedding_origin = model.encode(original_topic)\n",
    "embeddings = model.encode(sentences)\n",
    "\n",
    "# to compare two embeddings, use cosine similarity\n",
    "#Print the embeddings\n",
    "for sentence, embedding in zip(sentences, embeddings):\n",
    "    similarity = util.pytorch_cos_sim(embedding_origin, embedding)\n",
    "    \n",
    "    print(\"Sentence:\", sentence)\n",
    "    print(\"similarity score:\", similarity)\n",
    "    print(\"\")"
   ]
  },
  {
   "cell_type": "markdown",
   "id": "f39cc3f6-a4f6-41db-9e5e-d910c4afccde",
   "metadata": {
    "jp-MarkdownHeadingCollapsed": true,
    "tags": []
   },
   "source": [
    "#### Portuguese examples"
   ]
  },
  {
   "cell_type": "code",
   "execution_count": 30,
   "id": "3be8ee10-1e14-464e-9a32-b7050f94515b",
   "metadata": {},
   "outputs": [
    {
     "name": "stdout",
     "output_type": "stream",
     "text": [
      "Sentence: Há uma necessidade extrema de máscaras na província de Alberta.\n",
      "similarity score: tensor([[0.5586]])\n",
      "\n",
      "Sentence: Podemos precisar de mais baterias para que as máquinas funcionem sem problemas.\n",
      "similarity score: tensor([[0.2033]])\n",
      "\n",
      "Sentence: As máscaras neste departamento estão todas de acordo com os padrões de qualidade.\n",
      "similarity score: tensor([[0.5992]])\n",
      "\n",
      "Sentence: Desça o caminho e vire à esquerda, e você verá a sorveteria.\n",
      "similarity score: tensor([[0.3603]])\n",
      "\n"
     ]
    }
   ],
   "source": [
    "# now try to put it all together in portugeuse\n",
    "# thanks google translate!\n",
    "\n",
    "#original_topic = 'personal protective equipment shortage'\n",
    "original_topic = 'escassez de máscara'\n",
    "#original_topic = 'protective shortage'\n",
    "\n",
    "sentences = [\n",
    "    'Há uma necessidade extrema de máscaras na província de Alberta.',             # shortage of PPE\n",
    "    'Podemos precisar de mais baterias para que as máquinas funcionem sem problemas.',          # shortage of unrelated items\n",
    "    'As máscaras neste departamento estão todas de acordo com os padrões de qualidade.',      # not shortage but mentioned PPE\n",
    "    'Desça o caminho e vire à esquerda, e você verá a sorveteria.', # unrelated topic\n",
    "]\n",
    "\n",
    "#Sentences are encoded by calling model.encode()\n",
    "embedding_origin = model.encode(original_topic)\n",
    "embeddings = model.encode(sentences)\n",
    "\n",
    "# to compare two embeddings, use cosine similarity\n",
    "#Print the embeddings\n",
    "for sentence, embedding in zip(sentences, embeddings):\n",
    "    similarity = util.pytorch_cos_sim(embedding_origin, embedding)\n",
    "    \n",
    "    print(\"Sentence:\", sentence)\n",
    "    print(\"similarity score:\", similarity)\n",
    "    print(\"\")"
   ]
  },
  {
   "cell_type": "code",
   "execution_count": null,
   "id": "94525b16-906b-4b1d-9d0a-fd4472c47b79",
   "metadata": {},
   "outputs": [],
   "source": []
  },
  {
   "cell_type": "markdown",
   "id": "0546926b-34ca-4a18-a657-46c6a04c6667",
   "metadata": {},
   "source": [
    "### try applying our real dataset"
   ]
  },
  {
   "cell_type": "code",
   "execution_count": 31,
   "id": "02b94de4-1fdc-426f-a4e1-ab9c213d035f",
   "metadata": {},
   "outputs": [
    {
     "name": "stderr",
     "output_type": "stream",
     "text": [
      "C:\\Users\\Kevvol\\AppData\\Local\\Temp\\ipykernel_5000\\490307354.py:2: DtypeWarning: Columns (0) have mixed types. Specify dtype option on import or set low_memory=False.\n",
      "  df = pd.read_csv(file_name)\n"
     ]
    }
   ],
   "source": [
    "file_name = 'brazil_df.csv'\n",
    "df = pd.read_csv(file_name)"
   ]
  },
  {
   "cell_type": "code",
   "execution_count": 32,
   "id": "d62c996e-cdb9-4d5d-9bbe-27d32f14614f",
   "metadata": {},
   "outputs": [
    {
     "name": "stdout",
     "output_type": "stream",
     "text": [
      "2127643\n"
     ]
    }
   ],
   "source": [
    "# extract only portuguese language entries\n",
    "df_pt = df.loc[df['lang'] == 'pt']\n",
    "print(len(df_pt))"
   ]
  },
  {
   "cell_type": "code",
   "execution_count": 33,
   "id": "51232371-aa3a-4eff-80a2-dea32f83f006",
   "metadata": {},
   "outputs": [],
   "source": [
    "import re\n",
    "\n",
    "def remove_usernames_links(tweet):\n",
    "    tweet = re.sub('@[^\\s]+','',tweet)\n",
    "    tweet = re.sub('http[^\\s]+','',tweet)\n",
    "    return tweet"
   ]
  },
  {
   "cell_type": "code",
   "execution_count": 34,
   "id": "bf8d3c96-3fc0-4528-b210-6253eacc848e",
   "metadata": {},
   "outputs": [
    {
     "name": "stderr",
     "output_type": "stream",
     "text": [
      "C:\\Users\\Kevvol\\AppData\\Local\\Temp\\ipykernel_5000\\39966674.py:1: SettingWithCopyWarning: \n",
      "A value is trying to be set on a copy of a slice from a DataFrame.\n",
      "Try using .loc[row_indexer,col_indexer] = value instead\n",
      "\n",
      "See the caveats in the documentation: https://pandas.pydata.org/pandas-docs/stable/user_guide/indexing.html#returning-a-view-versus-a-copy\n",
      "  df_pt['text'] = df_pt['text'].apply(remove_usernames_links)\n"
     ]
    }
   ],
   "source": [
    "df_pt['text'] = df_pt['text'].apply(remove_usernames_links)"
   ]
  },
  {
   "cell_type": "code",
   "execution_count": 64,
   "id": "f36fcdaa-64b0-41df-a74c-7d5fbfc23c95",
   "metadata": {
    "tags": []
   },
   "outputs": [
    {
     "data": {
      "text/html": [
       "<div>\n",
       "<style scoped>\n",
       "    .dataframe tbody tr th:only-of-type {\n",
       "        vertical-align: middle;\n",
       "    }\n",
       "\n",
       "    .dataframe tbody tr th {\n",
       "        vertical-align: top;\n",
       "    }\n",
       "\n",
       "    .dataframe thead th {\n",
       "        text-align: right;\n",
       "    }\n",
       "</style>\n",
       "<table border=\"1\" class=\"dataframe\">\n",
       "  <thead>\n",
       "    <tr style=\"text-align: right;\">\n",
       "      <th></th>\n",
       "      <th>tweet_id</th>\n",
       "      <th>date_time</th>\n",
       "      <th>lang</th>\n",
       "      <th>user_id</th>\n",
       "      <th>retweeted_id</th>\n",
       "      <th>quoted_id</th>\n",
       "      <th>in_reply_to_id</th>\n",
       "      <th>sentiment_conf</th>\n",
       "      <th>sentiment_label</th>\n",
       "      <th>user_type</th>\n",
       "      <th>...</th>\n",
       "      <th>user_profile_description_country_code</th>\n",
       "      <th>user_profile_description_state</th>\n",
       "      <th>user_profile_description_county</th>\n",
       "      <th>user_profile_description_city</th>\n",
       "      <th>tweet_text_toponyms</th>\n",
       "      <th>tweet_text_country_code</th>\n",
       "      <th>tweet_text_state</th>\n",
       "      <th>tweet_text_county</th>\n",
       "      <th>tweet_text_city</th>\n",
       "      <th>text</th>\n",
       "    </tr>\n",
       "  </thead>\n",
       "  <tbody>\n",
       "    <tr>\n",
       "      <th>0</th>\n",
       "      <td>1333561484631273473</td>\n",
       "      <td>2020-12-01 00:00:08</td>\n",
       "      <td>pt</td>\n",
       "      <td>1.256964e+18</td>\n",
       "      <td>NaN</td>\n",
       "      <td>NaN</td>\n",
       "      <td>NaN</td>\n",
       "      <td>0.765</td>\n",
       "      <td>0.0</td>\n",
       "      <td>UNK</td>\n",
       "      <td>...</td>\n",
       "      <td>['BR']</td>\n",
       "      <td>['UNK']</td>\n",
       "      <td>['UNK']</td>\n",
       "      <td>['UNK']</td>\n",
       "      <td>['Brasil']</td>\n",
       "      <td>['BR']</td>\n",
       "      <td>['UNK']</td>\n",
       "      <td>['UNK']</td>\n",
       "      <td>['UNK']</td>\n",
       "      <td>Dados atualizados no dia 01/12/2020 às 00:00 s...</td>\n",
       "    </tr>\n",
       "    <tr>\n",
       "      <th>1</th>\n",
       "      <td>1333561534233001988</td>\n",
       "      <td>2020-12-01 00:00:20</td>\n",
       "      <td>pt</td>\n",
       "      <td>1.254859e+18</td>\n",
       "      <td>NaN</td>\n",
       "      <td>NaN</td>\n",
       "      <td>NaN</td>\n",
       "      <td>0.597</td>\n",
       "      <td>0.0</td>\n",
       "      <td>PER</td>\n",
       "      <td>...</td>\n",
       "      <td>NaN</td>\n",
       "      <td>NaN</td>\n",
       "      <td>NaN</td>\n",
       "      <td>NaN</td>\n",
       "      <td>['Brasil']</td>\n",
       "      <td>['BR']</td>\n",
       "      <td>['UNK']</td>\n",
       "      <td>['UNK']</td>\n",
       "      <td>['UNK']</td>\n",
       "      <td>São registrados, no total, 173.165 mortes e 6....</td>\n",
       "    </tr>\n",
       "    <tr>\n",
       "      <th>2</th>\n",
       "      <td>1333561535835332608</td>\n",
       "      <td>2020-12-01 00:00:21</td>\n",
       "      <td>pt</td>\n",
       "      <td>1.247532e+18</td>\n",
       "      <td>NaN</td>\n",
       "      <td>NaN</td>\n",
       "      <td>NaN</td>\n",
       "      <td>0.885</td>\n",
       "      <td>0.0</td>\n",
       "      <td>ORG</td>\n",
       "      <td>...</td>\n",
       "      <td>['BR']</td>\n",
       "      <td>['UNK']</td>\n",
       "      <td>['UNK']</td>\n",
       "      <td>['UNK']</td>\n",
       "      <td>['Brasil']</td>\n",
       "      <td>['BR']</td>\n",
       "      <td>['UNK']</td>\n",
       "      <td>['UNK']</td>\n",
       "      <td>['UNK']</td>\n",
       "      <td>Atualização dos dados do Brasil. #coronavirus ...</td>\n",
       "    </tr>\n",
       "    <tr>\n",
       "      <th>3</th>\n",
       "      <td>1333561544286867457</td>\n",
       "      <td>2020-12-01 00:00:23</td>\n",
       "      <td>pt</td>\n",
       "      <td>9.605948e+17</td>\n",
       "      <td>1.333516e+18</td>\n",
       "      <td>NaN</td>\n",
       "      <td>NaN</td>\n",
       "      <td>0.784</td>\n",
       "      <td>-1.0</td>\n",
       "      <td>CARDINAL</td>\n",
       "      <td>...</td>\n",
       "      <td>['PE']</td>\n",
       "      <td>['Arequipa']</td>\n",
       "      <td>['UNK']</td>\n",
       "      <td>['Majes']</td>\n",
       "      <td>['Brasil']</td>\n",
       "      <td>['BR']</td>\n",
       "      <td>['UNK']</td>\n",
       "      <td>['UNK']</td>\n",
       "      <td>['UNK']</td>\n",
       "      <td>A OMS pediu nesta segunda-feira ao Brasil que ...</td>\n",
       "    </tr>\n",
       "    <tr>\n",
       "      <th>4</th>\n",
       "      <td>1333561579485470721</td>\n",
       "      <td>2020-12-01 00:00:31</td>\n",
       "      <td>pt</td>\n",
       "      <td>9.605948e+17</td>\n",
       "      <td>1.333495e+18</td>\n",
       "      <td>NaN</td>\n",
       "      <td>NaN</td>\n",
       "      <td>0.787</td>\n",
       "      <td>-1.0</td>\n",
       "      <td>CARDINAL</td>\n",
       "      <td>...</td>\n",
       "      <td>['PE']</td>\n",
       "      <td>['Arequipa']</td>\n",
       "      <td>['UNK']</td>\n",
       "      <td>['Majes']</td>\n",
       "      <td>['Brasil']</td>\n",
       "      <td>['BR']</td>\n",
       "      <td>['UNK']</td>\n",
       "      <td>['UNK']</td>\n",
       "      <td>['UNK']</td>\n",
       "      <td>Chefe da OMS diz que estado atual da epidemia ...</td>\n",
       "    </tr>\n",
       "    <tr>\n",
       "      <th>...</th>\n",
       "      <td>...</td>\n",
       "      <td>...</td>\n",
       "      <td>...</td>\n",
       "      <td>...</td>\n",
       "      <td>...</td>\n",
       "      <td>...</td>\n",
       "      <td>...</td>\n",
       "      <td>...</td>\n",
       "      <td>...</td>\n",
       "      <td>...</td>\n",
       "      <td>...</td>\n",
       "      <td>...</td>\n",
       "      <td>...</td>\n",
       "      <td>...</td>\n",
       "      <td>...</td>\n",
       "      <td>...</td>\n",
       "      <td>...</td>\n",
       "      <td>...</td>\n",
       "      <td>...</td>\n",
       "      <td>...</td>\n",
       "      <td>...</td>\n",
       "    </tr>\n",
       "    <tr>\n",
       "      <th>2233796</th>\n",
       "      <td>1377410322256916480</td>\n",
       "      <td>2021-03-31 23:59:46</td>\n",
       "      <td>pt</td>\n",
       "      <td>8.272665e+17</td>\n",
       "      <td>1.377387e+18</td>\n",
       "      <td>NaN</td>\n",
       "      <td>NaN</td>\n",
       "      <td>0.872</td>\n",
       "      <td>-1.0</td>\n",
       "      <td>PER</td>\n",
       "      <td>...</td>\n",
       "      <td>NaN</td>\n",
       "      <td>NaN</td>\n",
       "      <td>NaN</td>\n",
       "      <td>NaN</td>\n",
       "      <td>['Covid', 'Brasil']</td>\n",
       "      <td>['IT', 'BR']</td>\n",
       "      <td>['Piemont', 'UNK']</td>\n",
       "      <td>['Cuneo', 'UNK']</td>\n",
       "      <td>['UNK', 'UNK']</td>\n",
       "      <td>3.869 óbitos nas últimas 24h, um novo recorde....</td>\n",
       "    </tr>\n",
       "    <tr>\n",
       "      <th>2233797</th>\n",
       "      <td>1377410325423685636</td>\n",
       "      <td>2021-03-31 23:59:47</td>\n",
       "      <td>pt</td>\n",
       "      <td>3.392868e+08</td>\n",
       "      <td>1.377313e+18</td>\n",
       "      <td>NaN</td>\n",
       "      <td>NaN</td>\n",
       "      <td>0.882</td>\n",
       "      <td>-1.0</td>\n",
       "      <td>UNK</td>\n",
       "      <td>...</td>\n",
       "      <td>NaN</td>\n",
       "      <td>NaN</td>\n",
       "      <td>NaN</td>\n",
       "      <td>NaN</td>\n",
       "      <td>['Bolsonaro']</td>\n",
       "      <td>['BR']</td>\n",
       "      <td>['São Paulo']</td>\n",
       "      <td>['UNK']</td>\n",
       "      <td>['UNK']</td>\n",
       "      <td>A ex-BBB e campeã de A Fazenda Flávia Viana, q...</td>\n",
       "    </tr>\n",
       "    <tr>\n",
       "      <th>2233798</th>\n",
       "      <td>1377410332369461253</td>\n",
       "      <td>2021-03-31 23:59:48</td>\n",
       "      <td>pt</td>\n",
       "      <td>4.718284e+07</td>\n",
       "      <td>1.377086e+18</td>\n",
       "      <td>NaN</td>\n",
       "      <td>NaN</td>\n",
       "      <td>0.648</td>\n",
       "      <td>0.0</td>\n",
       "      <td>PER</td>\n",
       "      <td>...</td>\n",
       "      <td>NaN</td>\n",
       "      <td>NaN</td>\n",
       "      <td>NaN</td>\n",
       "      <td>NaN</td>\n",
       "      <td>['VDEO', 'Bolsonaro']</td>\n",
       "      <td>['TG', 'BR']</td>\n",
       "      <td>['Plateaux Region', 'São Paulo']</td>\n",
       "      <td>['UNK', 'UNK']</td>\n",
       "      <td>['UNK', 'UNK']</td>\n",
       "      <td>VÍDEO: Com recorde de 3.780 mortes por covid e...</td>\n",
       "    </tr>\n",
       "    <tr>\n",
       "      <th>2233799</th>\n",
       "      <td>1377410332797231104</td>\n",
       "      <td>2021-03-31 23:59:49</td>\n",
       "      <td>pt</td>\n",
       "      <td>8.634409e+17</td>\n",
       "      <td>1.377396e+18</td>\n",
       "      <td>NaN</td>\n",
       "      <td>NaN</td>\n",
       "      <td>0.712</td>\n",
       "      <td>-1.0</td>\n",
       "      <td>UNK</td>\n",
       "      <td>...</td>\n",
       "      <td>NaN</td>\n",
       "      <td>NaN</td>\n",
       "      <td>NaN</td>\n",
       "      <td>NaN</td>\n",
       "      <td>['Brasil']</td>\n",
       "      <td>['BR']</td>\n",
       "      <td>['UNK']</td>\n",
       "      <td>['UNK']</td>\n",
       "      <td>['UNK']</td>\n",
       "      <td>Brasil fecha o mês mais letal da pandemia com ...</td>\n",
       "    </tr>\n",
       "    <tr>\n",
       "      <th>2233800</th>\n",
       "      <td>1377410334583967746</td>\n",
       "      <td>2021-03-31 23:59:49</td>\n",
       "      <td>pt</td>\n",
       "      <td>9.896876e+17</td>\n",
       "      <td>1.377244e+18</td>\n",
       "      <td>NaN</td>\n",
       "      <td>NaN</td>\n",
       "      <td>0.902</td>\n",
       "      <td>-1.0</td>\n",
       "      <td>PER</td>\n",
       "      <td>...</td>\n",
       "      <td>NaN</td>\n",
       "      <td>NaN</td>\n",
       "      <td>NaN</td>\n",
       "      <td>NaN</td>\n",
       "      <td>['Governo Federal']</td>\n",
       "      <td>['BR']</td>\n",
       "      <td>['Federal District']</td>\n",
       "      <td>['Região Integrada de Desenvolvimento do Distr...</td>\n",
       "      <td>['Brasília']</td>\n",
       "      <td>ESCÂNDALO O Governo Federal gastou 1,3 milhão ...</td>\n",
       "    </tr>\n",
       "  </tbody>\n",
       "</table>\n",
       "<p>2127643 rows × 38 columns</p>\n",
       "</div>"
      ],
      "text/plain": [
       "                    tweet_id            date_time lang       user_id  \\\n",
       "0        1333561484631273473  2020-12-01 00:00:08   pt  1.256964e+18   \n",
       "1        1333561534233001988  2020-12-01 00:00:20   pt  1.254859e+18   \n",
       "2        1333561535835332608  2020-12-01 00:00:21   pt  1.247532e+18   \n",
       "3        1333561544286867457  2020-12-01 00:00:23   pt  9.605948e+17   \n",
       "4        1333561579485470721  2020-12-01 00:00:31   pt  9.605948e+17   \n",
       "...                      ...                  ...  ...           ...   \n",
       "2233796  1377410322256916480  2021-03-31 23:59:46   pt  8.272665e+17   \n",
       "2233797  1377410325423685636  2021-03-31 23:59:47   pt  3.392868e+08   \n",
       "2233798  1377410332369461253  2021-03-31 23:59:48   pt  4.718284e+07   \n",
       "2233799  1377410332797231104  2021-03-31 23:59:49   pt  8.634409e+17   \n",
       "2233800  1377410334583967746  2021-03-31 23:59:49   pt  9.896876e+17   \n",
       "\n",
       "         retweeted_id  quoted_id  in_reply_to_id  sentiment_conf  \\\n",
       "0                 NaN        NaN             NaN           0.765   \n",
       "1                 NaN        NaN             NaN           0.597   \n",
       "2                 NaN        NaN             NaN           0.885   \n",
       "3        1.333516e+18        NaN             NaN           0.784   \n",
       "4        1.333495e+18        NaN             NaN           0.787   \n",
       "...               ...        ...             ...             ...   \n",
       "2233796  1.377387e+18        NaN             NaN           0.872   \n",
       "2233797  1.377313e+18        NaN             NaN           0.882   \n",
       "2233798  1.377086e+18        NaN             NaN           0.648   \n",
       "2233799  1.377396e+18        NaN             NaN           0.712   \n",
       "2233800  1.377244e+18        NaN             NaN           0.902   \n",
       "\n",
       "         sentiment_label user_type  ... user_profile_description_country_code  \\\n",
       "0                    0.0       UNK  ...                                ['BR']   \n",
       "1                    0.0       PER  ...                                   NaN   \n",
       "2                    0.0       ORG  ...                                ['BR']   \n",
       "3                   -1.0  CARDINAL  ...                                ['PE']   \n",
       "4                   -1.0  CARDINAL  ...                                ['PE']   \n",
       "...                  ...       ...  ...                                   ...   \n",
       "2233796             -1.0       PER  ...                                   NaN   \n",
       "2233797             -1.0       UNK  ...                                   NaN   \n",
       "2233798              0.0       PER  ...                                   NaN   \n",
       "2233799             -1.0       UNK  ...                                   NaN   \n",
       "2233800             -1.0       PER  ...                                   NaN   \n",
       "\n",
       "        user_profile_description_state user_profile_description_county  \\\n",
       "0                              ['UNK']                         ['UNK']   \n",
       "1                                  NaN                             NaN   \n",
       "2                              ['UNK']                         ['UNK']   \n",
       "3                         ['Arequipa']                         ['UNK']   \n",
       "4                         ['Arequipa']                         ['UNK']   \n",
       "...                                ...                             ...   \n",
       "2233796                            NaN                             NaN   \n",
       "2233797                            NaN                             NaN   \n",
       "2233798                            NaN                             NaN   \n",
       "2233799                            NaN                             NaN   \n",
       "2233800                            NaN                             NaN   \n",
       "\n",
       "        user_profile_description_city    tweet_text_toponyms  \\\n",
       "0                             ['UNK']             ['Brasil']   \n",
       "1                                 NaN             ['Brasil']   \n",
       "2                             ['UNK']             ['Brasil']   \n",
       "3                           ['Majes']             ['Brasil']   \n",
       "4                           ['Majes']             ['Brasil']   \n",
       "...                               ...                    ...   \n",
       "2233796                           NaN    ['Covid', 'Brasil']   \n",
       "2233797                           NaN          ['Bolsonaro']   \n",
       "2233798                           NaN  ['VDEO', 'Bolsonaro']   \n",
       "2233799                           NaN             ['Brasil']   \n",
       "2233800                           NaN    ['Governo Federal']   \n",
       "\n",
       "        tweet_text_country_code                  tweet_text_state  \\\n",
       "0                        ['BR']                           ['UNK']   \n",
       "1                        ['BR']                           ['UNK']   \n",
       "2                        ['BR']                           ['UNK']   \n",
       "3                        ['BR']                           ['UNK']   \n",
       "4                        ['BR']                           ['UNK']   \n",
       "...                         ...                               ...   \n",
       "2233796            ['IT', 'BR']                ['Piemont', 'UNK']   \n",
       "2233797                  ['BR']                     ['São Paulo']   \n",
       "2233798            ['TG', 'BR']  ['Plateaux Region', 'São Paulo']   \n",
       "2233799                  ['BR']                           ['UNK']   \n",
       "2233800                  ['BR']              ['Federal District']   \n",
       "\n",
       "                                         tweet_text_county tweet_text_city  \\\n",
       "0                                                  ['UNK']         ['UNK']   \n",
       "1                                                  ['UNK']         ['UNK']   \n",
       "2                                                  ['UNK']         ['UNK']   \n",
       "3                                                  ['UNK']         ['UNK']   \n",
       "4                                                  ['UNK']         ['UNK']   \n",
       "...                                                    ...             ...   \n",
       "2233796                                   ['Cuneo', 'UNK']  ['UNK', 'UNK']   \n",
       "2233797                                            ['UNK']         ['UNK']   \n",
       "2233798                                     ['UNK', 'UNK']  ['UNK', 'UNK']   \n",
       "2233799                                            ['UNK']         ['UNK']   \n",
       "2233800  ['Região Integrada de Desenvolvimento do Distr...    ['Brasília']   \n",
       "\n",
       "                                                      text  \n",
       "0        Dados atualizados no dia 01/12/2020 às 00:00 s...  \n",
       "1        São registrados, no total, 173.165 mortes e 6....  \n",
       "2        Atualização dos dados do Brasil. #coronavirus ...  \n",
       "3        A OMS pediu nesta segunda-feira ao Brasil que ...  \n",
       "4        Chefe da OMS diz que estado atual da epidemia ...  \n",
       "...                                                    ...  \n",
       "2233796  3.869 óbitos nas últimas 24h, um novo recorde....  \n",
       "2233797  A ex-BBB e campeã de A Fazenda Flávia Viana, q...  \n",
       "2233798  VÍDEO: Com recorde de 3.780 mortes por covid e...  \n",
       "2233799  Brasil fecha o mês mais letal da pandemia com ...  \n",
       "2233800  ESCÂNDALO O Governo Federal gastou 1,3 milhão ...  \n",
       "\n",
       "[2127643 rows x 38 columns]"
      ]
     },
     "execution_count": 64,
     "metadata": {},
     "output_type": "execute_result"
    }
   ],
   "source": [
    "df_pt"
   ]
  },
  {
   "cell_type": "code",
   "execution_count": 127,
   "id": "5038d941-3914-4b33-ba6b-2d2e2a3ea676",
   "metadata": {},
   "outputs": [
    {
     "data": {
      "text/plain": [
       "Index(['tweet_id', 'date_time', 'lang', 'user_id', 'retweeted_id', 'quoted_id',\n",
       "       'in_reply_to_id', 'sentiment_conf', 'sentiment_label', 'user_type',\n",
       "       'gender_label', 'tweet_text_named_entities', 'geo_coordinates_lat_lon',\n",
       "       'geo_country_code', 'geo_state', 'geo_county', 'geo_city',\n",
       "       'place_bounding_box', 'place_country_code', 'place_state',\n",
       "       'place_county', 'place_city', 'user_loc_toponyms',\n",
       "       'user_loc_country_code', 'user_loc_state', 'user_loc_county',\n",
       "       'user_loc_city', 'user_profile_description_toponyms',\n",
       "       'user_profile_description_country_code',\n",
       "       'user_profile_description_state', 'user_profile_description_county',\n",
       "       'user_profile_description_city', 'tweet_text_toponyms',\n",
       "       'tweet_text_country_code', 'tweet_text_state', 'tweet_text_county',\n",
       "       'tweet_text_city', 'text'],\n",
       "      dtype='object')"
      ]
     },
     "execution_count": 127,
     "metadata": {},
     "output_type": "execute_result"
    }
   ],
   "source": [
    "df_pt.columns"
   ]
  },
  {
   "cell_type": "code",
   "execution_count": 134,
   "id": "ccda982d-b868-475e-a603-482e241d453e",
   "metadata": {},
   "outputs": [
    {
     "data": {
      "text/plain": [
       "Belo Horizonte     5723\n",
       "Porto Alegre       5641\n",
       "Recife             3458\n",
       "Fortaleza          3325\n",
       "Manaus             3126\n",
       "                   ... \n",
       "Ciudad del Este       1\n",
       "Malmo                 1\n",
       "Münster               1\n",
       "Taguatinga            1\n",
       "New York              1\n",
       "Name: place_city, Length: 353, dtype: int64"
      ]
     },
     "execution_count": 134,
     "metadata": {},
     "output_type": "execute_result"
    }
   ],
   "source": [
    "df_pt['place_city'].loc[df_pt['place_city'] != float('NaN')].value_counts()"
   ]
  },
  {
   "cell_type": "markdown",
   "id": "7b7e4dc2-f0fa-4c04-a487-466bf5552d49",
   "metadata": {},
   "source": [
    "#### inquiry estimation on how long vectorizing the whole set takes"
   ]
  },
  {
   "cell_type": "code",
   "execution_count": 55,
   "id": "091f95e1-208d-4aed-8f2b-ae7f38f27c0d",
   "metadata": {},
   "outputs": [],
   "source": [
    "# use the df.to_numpy() function\n",
    "tes = df_pt[:2000][\"text\"].to_numpy()"
   ]
  },
  {
   "cell_type": "code",
   "execution_count": 56,
   "id": "3fc9482a-fc95-4dba-91b7-5fca6409967c",
   "metadata": {},
   "outputs": [],
   "source": [
    "n_samples = len(df_pt)\n",
    "n_test = len(tes)"
   ]
  },
  {
   "cell_type": "code",
   "execution_count": 57,
   "id": "6a445857-0541-4423-bb59-ed6a2aef066a",
   "metadata": {},
   "outputs": [
    {
     "name": "stdout",
     "output_type": "stream",
     "text": [
      "done in 40.975s.\n"
     ]
    }
   ],
   "source": [
    "t0 = time()\n",
    "test_embeddings = model.encode(tes)\n",
    "td = time() - t0\n",
    "print(\"done in %0.3fs.\" % (td))"
   ]
  },
  {
   "cell_type": "code",
   "execution_count": 58,
   "id": "dbc45f7f-439a-4365-8add-ef80a38e6735",
   "metadata": {},
   "outputs": [
    {
     "name": "stdout",
     "output_type": "stream",
     "text": [
      "estimated time to finish:  43589.67903081012 s\n",
      "in hours:  12.108244175225034 h\n"
     ]
    }
   ],
   "source": [
    "time_all = td/n_test*n_samples\n",
    "print('estimated time to finish: ', time_all, 's')\n",
    "print('in hours: ', time_all / 3600, 'h')"
   ]
  },
  {
   "cell_type": "code",
   "execution_count": 61,
   "id": "7bdb9248-5ae9-402d-b8a2-cfca2b6490a0",
   "metadata": {},
   "outputs": [
    {
     "data": {
      "text/plain": [
       "(2000, 384)"
      ]
     },
     "execution_count": 61,
     "metadata": {},
     "output_type": "execute_result"
    }
   ],
   "source": [
    "test_embeddings.shape"
   ]
  },
  {
   "cell_type": "code",
   "execution_count": 114,
   "id": "22292a7b-a72c-43f7-9547-b4a79899f20f",
   "metadata": {},
   "outputs": [
    {
     "name": "stdout",
     "output_type": "stream",
     "text": [
      "file size will be:  6233.3291015625 MB\n"
     ]
    }
   ],
   "source": [
    "print('file size will be: ', 384 * n_samples * 8 / 1048576, 'MB')"
   ]
  },
  {
   "cell_type": "code",
   "execution_count": null,
   "id": "45d1fba4-992b-4927-b5db-7b1fca935e4c",
   "metadata": {},
   "outputs": [],
   "source": []
  },
  {
   "cell_type": "markdown",
   "id": "92282832-3797-4fa3-b83f-3af8844875f3",
   "metadata": {
    "jp-MarkdownHeadingCollapsed": true,
    "tags": []
   },
   "source": [
    "#### poking around"
   ]
  },
  {
   "cell_type": "code",
   "execution_count": 74,
   "id": "911f908f-9a36-4fee-8db9-4d20eec37cc1",
   "metadata": {},
   "outputs": [
    {
     "name": "stdout",
     "output_type": "stream",
     "text": [
      "2020-12-01 00:01:12\n",
      "True\n"
     ]
    }
   ],
   "source": [
    "sample_date = df_pt.loc[10]['date_time']\n",
    "print(sample_date)\n",
    "\n",
    "print(sample_date >= '2020-12-01' and sample_date < '2020-12-15')"
   ]
  },
  {
   "cell_type": "code",
   "execution_count": 110,
   "id": "3a917757-1184-451a-878e-de771467b055",
   "metadata": {},
   "outputs": [],
   "source": [
    "df_2021_jan = df_pt.loc[(df_pt['date_time'] >= '2021-01-01') & (df_pt['date_time'] < '2021-02-01')]"
   ]
  },
  {
   "cell_type": "code",
   "execution_count": 111,
   "id": "0a51c7a2-2d96-4a5d-a09e-2f24c9177347",
   "metadata": {},
   "outputs": [
    {
     "data": {
      "text/plain": [
       "535398"
      ]
     },
     "execution_count": 111,
     "metadata": {},
     "output_type": "execute_result"
    }
   ],
   "source": [
    "len(df_2021_jan)"
   ]
  },
  {
   "cell_type": "code",
   "execution_count": 84,
   "id": "a5822509-edba-42f1-afc5-d2360b93e289",
   "metadata": {
    "collapsed": true,
    "jupyter": {
     "outputs_hidden": true
    },
    "tags": []
   },
   "outputs": [
    {
     "data": {
      "text/plain": [
       "0          False\n",
       "1          False\n",
       "2          False\n",
       "3          False\n",
       "4          False\n",
       "           ...  \n",
       "2233796    False\n",
       "2233797    False\n",
       "2233798    False\n",
       "2233799    False\n",
       "2233800    False\n",
       "Name: date_time, Length: 2127643, dtype: bool"
      ]
     },
     "execution_count": 84,
     "metadata": {},
     "output_type": "execute_result"
    }
   ],
   "source": [
    "(df_pt['date_time'] >= '2021-01-01') & (df_pt['date_time'] < '2021-02-01')"
   ]
  },
  {
   "cell_type": "code",
   "execution_count": 97,
   "id": "1f146a02-44f2-46b9-ae6d-9e8319c9f8c4",
   "metadata": {
    "collapsed": true,
    "jupyter": {
     "outputs_hidden": true
    },
    "tags": []
   },
   "outputs": [
    {
     "data": {
      "text/plain": [
       "0          False\n",
       "1          False\n",
       "2          False\n",
       "3          False\n",
       "4          False\n",
       "           ...  \n",
       "2233796    False\n",
       "2233797    False\n",
       "2233798    False\n",
       "2233799    False\n",
       "2233800    False\n",
       "Name: tweet_text_state, Length: 2127643, dtype: bool"
      ]
     },
     "execution_count": 97,
     "metadata": {},
     "output_type": "execute_result"
    }
   ],
   "source": [
    "df_pt['tweet_text_state'].apply(lambda x: type(x) == list and 'São Paulo' in x)"
   ]
  },
  {
   "cell_type": "code",
   "execution_count": 104,
   "id": "c0378941-7675-46da-92ef-b7a98e1ed9e4",
   "metadata": {},
   "outputs": [
    {
     "data": {
      "text/plain": [
       "True"
      ]
     },
     "execution_count": 104,
     "metadata": {},
     "output_type": "execute_result"
    }
   ],
   "source": [
    "'UNK' in df_pt['tweet_text_state'].loc[0]"
   ]
  },
  {
   "cell_type": "code",
   "execution_count": 106,
   "id": "e4e5230a-2de6-45f0-afb3-44ccba0d78c5",
   "metadata": {},
   "outputs": [
    {
     "data": {
      "text/plain": [
       "0       <class 'str'>\n",
       "14    <class 'float'>\n",
       "Name: tweet_text_state, dtype: object"
      ]
     },
     "execution_count": 106,
     "metadata": {},
     "output_type": "execute_result"
    }
   ],
   "source": [
    "df_pt['tweet_text_state'].apply(lambda x: type(x)).drop_duplicates()"
   ]
  },
  {
   "cell_type": "code",
   "execution_count": 107,
   "id": "233014d3-60cd-4535-9a9a-51b21c06ea65",
   "metadata": {
    "collapsed": true,
    "jupyter": {
     "outputs_hidden": true
    },
    "tags": []
   },
   "outputs": [
    {
     "data": {
      "text/html": [
       "<div>\n",
       "<style scoped>\n",
       "    .dataframe tbody tr th:only-of-type {\n",
       "        vertical-align: middle;\n",
       "    }\n",
       "\n",
       "    .dataframe tbody tr th {\n",
       "        vertical-align: top;\n",
       "    }\n",
       "\n",
       "    .dataframe thead th {\n",
       "        text-align: right;\n",
       "    }\n",
       "</style>\n",
       "<table border=\"1\" class=\"dataframe\">\n",
       "  <thead>\n",
       "    <tr style=\"text-align: right;\">\n",
       "      <th></th>\n",
       "      <th>tweet_id</th>\n",
       "      <th>date_time</th>\n",
       "      <th>lang</th>\n",
       "      <th>user_id</th>\n",
       "      <th>retweeted_id</th>\n",
       "      <th>quoted_id</th>\n",
       "      <th>in_reply_to_id</th>\n",
       "      <th>sentiment_conf</th>\n",
       "      <th>sentiment_label</th>\n",
       "      <th>user_type</th>\n",
       "      <th>...</th>\n",
       "      <th>user_profile_description_country_code</th>\n",
       "      <th>user_profile_description_state</th>\n",
       "      <th>user_profile_description_county</th>\n",
       "      <th>user_profile_description_city</th>\n",
       "      <th>tweet_text_toponyms</th>\n",
       "      <th>tweet_text_country_code</th>\n",
       "      <th>tweet_text_state</th>\n",
       "      <th>tweet_text_county</th>\n",
       "      <th>tweet_text_city</th>\n",
       "      <th>text</th>\n",
       "    </tr>\n",
       "  </thead>\n",
       "  <tbody>\n",
       "    <tr>\n",
       "      <th>14</th>\n",
       "      <td>1333561843009400832</td>\n",
       "      <td>2020-12-01 00:01:34</td>\n",
       "      <td>pt</td>\n",
       "      <td>6.005160e+08</td>\n",
       "      <td>NaN</td>\n",
       "      <td>NaN</td>\n",
       "      <td>NaN</td>\n",
       "      <td>0.588</td>\n",
       "      <td>-1.0</td>\n",
       "      <td>PER</td>\n",
       "      <td>...</td>\n",
       "      <td>NaN</td>\n",
       "      <td>NaN</td>\n",
       "      <td>NaN</td>\n",
       "      <td>NaN</td>\n",
       "      <td>NaN</td>\n",
       "      <td>NaN</td>\n",
       "      <td>NaN</td>\n",
       "      <td>NaN</td>\n",
       "      <td>NaN</td>\n",
       "      <td>O protocolo de segurança da #CBFC funciona tan...</td>\n",
       "    </tr>\n",
       "    <tr>\n",
       "      <th>16</th>\n",
       "      <td>1333561854094938112</td>\n",
       "      <td>2020-12-01 00:01:37</td>\n",
       "      <td>pt</td>\n",
       "      <td>9.152612e+17</td>\n",
       "      <td>NaN</td>\n",
       "      <td>NaN</td>\n",
       "      <td>NaN</td>\n",
       "      <td>0.914</td>\n",
       "      <td>-1.0</td>\n",
       "      <td>PER</td>\n",
       "      <td>...</td>\n",
       "      <td>NaN</td>\n",
       "      <td>NaN</td>\n",
       "      <td>NaN</td>\n",
       "      <td>NaN</td>\n",
       "      <td>NaN</td>\n",
       "      <td>NaN</td>\n",
       "      <td>NaN</td>\n",
       "      <td>NaN</td>\n",
       "      <td>NaN</td>\n",
       "      <td>Nem festa de ano novo vai ter...nmrl corona vsf</td>\n",
       "    </tr>\n",
       "    <tr>\n",
       "      <th>24</th>\n",
       "      <td>1333562093824585730</td>\n",
       "      <td>2020-12-01 00:02:34</td>\n",
       "      <td>pt</td>\n",
       "      <td>7.906668e+07</td>\n",
       "      <td>NaN</td>\n",
       "      <td>1.333562e+18</td>\n",
       "      <td>NaN</td>\n",
       "      <td>0.813</td>\n",
       "      <td>-1.0</td>\n",
       "      <td>PER</td>\n",
       "      <td>...</td>\n",
       "      <td>NaN</td>\n",
       "      <td>NaN</td>\n",
       "      <td>NaN</td>\n",
       "      <td>NaN</td>\n",
       "      <td>NaN</td>\n",
       "      <td>NaN</td>\n",
       "      <td>NaN</td>\n",
       "      <td>NaN</td>\n",
       "      <td>NaN</td>\n",
       "      <td>A eleição atrapalhava as medidas 😉</td>\n",
       "    </tr>\n",
       "    <tr>\n",
       "      <th>28</th>\n",
       "      <td>1333562263173812236</td>\n",
       "      <td>2020-12-01 00:03:14</td>\n",
       "      <td>pt</td>\n",
       "      <td>3.703017e+09</td>\n",
       "      <td>NaN</td>\n",
       "      <td>NaN</td>\n",
       "      <td>NaN</td>\n",
       "      <td>0.401</td>\n",
       "      <td>0.0</td>\n",
       "      <td>ORG</td>\n",
       "      <td>...</td>\n",
       "      <td>NaN</td>\n",
       "      <td>NaN</td>\n",
       "      <td>NaN</td>\n",
       "      <td>NaN</td>\n",
       "      <td>NaN</td>\n",
       "      <td>NaN</td>\n",
       "      <td>NaN</td>\n",
       "      <td>NaN</td>\n",
       "      <td>NaN</td>\n",
       "      <td>Para os curiosos, não! Não é teste de gravidez...</td>\n",
       "    </tr>\n",
       "    <tr>\n",
       "      <th>40</th>\n",
       "      <td>1333562710013992961</td>\n",
       "      <td>2020-12-01 00:05:01</td>\n",
       "      <td>pt</td>\n",
       "      <td>1.754666e+08</td>\n",
       "      <td>NaN</td>\n",
       "      <td>NaN</td>\n",
       "      <td>1.333563e+18</td>\n",
       "      <td>0.519</td>\n",
       "      <td>1.0</td>\n",
       "      <td>PER</td>\n",
       "      <td>...</td>\n",
       "      <td>['BR']</td>\n",
       "      <td>['Santa Catarina']</td>\n",
       "      <td>['UNK']</td>\n",
       "      <td>['Joinville']</td>\n",
       "      <td>NaN</td>\n",
       "      <td>NaN</td>\n",
       "      <td>NaN</td>\n",
       "      <td>NaN</td>\n",
       "      <td>NaN</td>\n",
       "      <td>Faz ventosa e ganha corona de brinde kkkkkkkk</td>\n",
       "    </tr>\n",
       "    <tr>\n",
       "      <th>...</th>\n",
       "      <td>...</td>\n",
       "      <td>...</td>\n",
       "      <td>...</td>\n",
       "      <td>...</td>\n",
       "      <td>...</td>\n",
       "      <td>...</td>\n",
       "      <td>...</td>\n",
       "      <td>...</td>\n",
       "      <td>...</td>\n",
       "      <td>...</td>\n",
       "      <td>...</td>\n",
       "      <td>...</td>\n",
       "      <td>...</td>\n",
       "      <td>...</td>\n",
       "      <td>...</td>\n",
       "      <td>...</td>\n",
       "      <td>...</td>\n",
       "      <td>...</td>\n",
       "      <td>...</td>\n",
       "      <td>...</td>\n",
       "      <td>...</td>\n",
       "    </tr>\n",
       "    <tr>\n",
       "      <th>2233630</th>\n",
       "      <td>1377409133561847810</td>\n",
       "      <td>2021-03-31 23:55:03</td>\n",
       "      <td>pt</td>\n",
       "      <td>1.198005e+09</td>\n",
       "      <td>NaN</td>\n",
       "      <td>1.377409e+18</td>\n",
       "      <td>NaN</td>\n",
       "      <td>0.596</td>\n",
       "      <td>0.0</td>\n",
       "      <td>PER</td>\n",
       "      <td>...</td>\n",
       "      <td>['PT', 'AR']</td>\n",
       "      <td>['North', 'Entre Ríos Province']</td>\n",
       "      <td>['Aveiro', 'Distrito Francisco Ramírez']</td>\n",
       "      <td>['UNK', 'UNK']</td>\n",
       "      <td>NaN</td>\n",
       "      <td>NaN</td>\n",
       "      <td>NaN</td>\n",
       "      <td>NaN</td>\n",
       "      <td>NaN</td>\n",
       "      <td>Em números relativos, somos 2,7% da população ...</td>\n",
       "    </tr>\n",
       "    <tr>\n",
       "      <th>2233659</th>\n",
       "      <td>1377409289053163522</td>\n",
       "      <td>2021-03-31 23:55:40</td>\n",
       "      <td>pt</td>\n",
       "      <td>6.741160e+07</td>\n",
       "      <td>NaN</td>\n",
       "      <td>NaN</td>\n",
       "      <td>NaN</td>\n",
       "      <td>0.435</td>\n",
       "      <td>0.0</td>\n",
       "      <td>ORG</td>\n",
       "      <td>...</td>\n",
       "      <td>NaN</td>\n",
       "      <td>NaN</td>\n",
       "      <td>NaN</td>\n",
       "      <td>NaN</td>\n",
       "      <td>NaN</td>\n",
       "      <td>NaN</td>\n",
       "      <td>NaN</td>\n",
       "      <td>NaN</td>\n",
       "      <td>NaN</td>\n",
       "      <td>Fiquei sabendo hoje que meu pneumologista, e u...</td>\n",
       "    </tr>\n",
       "    <tr>\n",
       "      <th>2233690</th>\n",
       "      <td>1377409521761411076</td>\n",
       "      <td>2021-03-31 23:56:35</td>\n",
       "      <td>pt</td>\n",
       "      <td>8.929017e+17</td>\n",
       "      <td>NaN</td>\n",
       "      <td>NaN</td>\n",
       "      <td>1.377409e+18</td>\n",
       "      <td>0.739</td>\n",
       "      <td>0.0</td>\n",
       "      <td>UNK</td>\n",
       "      <td>...</td>\n",
       "      <td>NaN</td>\n",
       "      <td>NaN</td>\n",
       "      <td>NaN</td>\n",
       "      <td>NaN</td>\n",
       "      <td>NaN</td>\n",
       "      <td>NaN</td>\n",
       "      <td>NaN</td>\n",
       "      <td>NaN</td>\n",
       "      <td>NaN</td>\n",
       "      <td>nada, só disseram que ele ta com corona. Quer...</td>\n",
       "    </tr>\n",
       "    <tr>\n",
       "      <th>2233709</th>\n",
       "      <td>1377409660966236162</td>\n",
       "      <td>2021-03-31 23:57:08</td>\n",
       "      <td>pt</td>\n",
       "      <td>1.250977e+18</td>\n",
       "      <td>NaN</td>\n",
       "      <td>NaN</td>\n",
       "      <td>1.377322e+18</td>\n",
       "      <td>0.866</td>\n",
       "      <td>0.0</td>\n",
       "      <td>UNK</td>\n",
       "      <td>...</td>\n",
       "      <td>NaN</td>\n",
       "      <td>NaN</td>\n",
       "      <td>NaN</td>\n",
       "      <td>NaN</td>\n",
       "      <td>NaN</td>\n",
       "      <td>NaN</td>\n",
       "      <td>NaN</td>\n",
       "      <td>NaN</td>\n",
       "      <td>NaN</td>\n",
       "      <td>Nenhum. Só quando pegou covid19.</td>\n",
       "    </tr>\n",
       "    <tr>\n",
       "      <th>2233755</th>\n",
       "      <td>1377410024201285633</td>\n",
       "      <td>2021-03-31 23:58:35</td>\n",
       "      <td>pt</td>\n",
       "      <td>3.537500e+07</td>\n",
       "      <td>NaN</td>\n",
       "      <td>NaN</td>\n",
       "      <td>1.377407e+18</td>\n",
       "      <td>0.644</td>\n",
       "      <td>-1.0</td>\n",
       "      <td>PER</td>\n",
       "      <td>...</td>\n",
       "      <td>NaN</td>\n",
       "      <td>NaN</td>\n",
       "      <td>NaN</td>\n",
       "      <td>NaN</td>\n",
       "      <td>NaN</td>\n",
       "      <td>NaN</td>\n",
       "      <td>NaN</td>\n",
       "      <td>NaN</td>\n",
       "      <td>NaN</td>\n",
       "      <td>E pra brindar a narrativa coloca a culpa pela...</td>\n",
       "    </tr>\n",
       "  </tbody>\n",
       "</table>\n",
       "<p>110926 rows × 38 columns</p>\n",
       "</div>"
      ],
      "text/plain": [
       "                    tweet_id            date_time lang       user_id  \\\n",
       "14       1333561843009400832  2020-12-01 00:01:34   pt  6.005160e+08   \n",
       "16       1333561854094938112  2020-12-01 00:01:37   pt  9.152612e+17   \n",
       "24       1333562093824585730  2020-12-01 00:02:34   pt  7.906668e+07   \n",
       "28       1333562263173812236  2020-12-01 00:03:14   pt  3.703017e+09   \n",
       "40       1333562710013992961  2020-12-01 00:05:01   pt  1.754666e+08   \n",
       "...                      ...                  ...  ...           ...   \n",
       "2233630  1377409133561847810  2021-03-31 23:55:03   pt  1.198005e+09   \n",
       "2233659  1377409289053163522  2021-03-31 23:55:40   pt  6.741160e+07   \n",
       "2233690  1377409521761411076  2021-03-31 23:56:35   pt  8.929017e+17   \n",
       "2233709  1377409660966236162  2021-03-31 23:57:08   pt  1.250977e+18   \n",
       "2233755  1377410024201285633  2021-03-31 23:58:35   pt  3.537500e+07   \n",
       "\n",
       "         retweeted_id     quoted_id  in_reply_to_id  sentiment_conf  \\\n",
       "14                NaN           NaN             NaN           0.588   \n",
       "16                NaN           NaN             NaN           0.914   \n",
       "24                NaN  1.333562e+18             NaN           0.813   \n",
       "28                NaN           NaN             NaN           0.401   \n",
       "40                NaN           NaN    1.333563e+18           0.519   \n",
       "...               ...           ...             ...             ...   \n",
       "2233630           NaN  1.377409e+18             NaN           0.596   \n",
       "2233659           NaN           NaN             NaN           0.435   \n",
       "2233690           NaN           NaN    1.377409e+18           0.739   \n",
       "2233709           NaN           NaN    1.377322e+18           0.866   \n",
       "2233755           NaN           NaN    1.377407e+18           0.644   \n",
       "\n",
       "         sentiment_label user_type  ... user_profile_description_country_code  \\\n",
       "14                  -1.0       PER  ...                                   NaN   \n",
       "16                  -1.0       PER  ...                                   NaN   \n",
       "24                  -1.0       PER  ...                                   NaN   \n",
       "28                   0.0       ORG  ...                                   NaN   \n",
       "40                   1.0       PER  ...                                ['BR']   \n",
       "...                  ...       ...  ...                                   ...   \n",
       "2233630              0.0       PER  ...                          ['PT', 'AR']   \n",
       "2233659              0.0       ORG  ...                                   NaN   \n",
       "2233690              0.0       UNK  ...                                   NaN   \n",
       "2233709              0.0       UNK  ...                                   NaN   \n",
       "2233755             -1.0       PER  ...                                   NaN   \n",
       "\n",
       "           user_profile_description_state  \\\n",
       "14                                    NaN   \n",
       "16                                    NaN   \n",
       "24                                    NaN   \n",
       "28                                    NaN   \n",
       "40                     ['Santa Catarina']   \n",
       "...                                   ...   \n",
       "2233630  ['North', 'Entre Ríos Province']   \n",
       "2233659                               NaN   \n",
       "2233690                               NaN   \n",
       "2233709                               NaN   \n",
       "2233755                               NaN   \n",
       "\n",
       "                  user_profile_description_county  \\\n",
       "14                                            NaN   \n",
       "16                                            NaN   \n",
       "24                                            NaN   \n",
       "28                                            NaN   \n",
       "40                                        ['UNK']   \n",
       "...                                           ...   \n",
       "2233630  ['Aveiro', 'Distrito Francisco Ramírez']   \n",
       "2233659                                       NaN   \n",
       "2233690                                       NaN   \n",
       "2233709                                       NaN   \n",
       "2233755                                       NaN   \n",
       "\n",
       "        user_profile_description_city tweet_text_toponyms  \\\n",
       "14                                NaN                 NaN   \n",
       "16                                NaN                 NaN   \n",
       "24                                NaN                 NaN   \n",
       "28                                NaN                 NaN   \n",
       "40                      ['Joinville']                 NaN   \n",
       "...                               ...                 ...   \n",
       "2233630                ['UNK', 'UNK']                 NaN   \n",
       "2233659                           NaN                 NaN   \n",
       "2233690                           NaN                 NaN   \n",
       "2233709                           NaN                 NaN   \n",
       "2233755                           NaN                 NaN   \n",
       "\n",
       "        tweet_text_country_code tweet_text_state tweet_text_county  \\\n",
       "14                          NaN              NaN               NaN   \n",
       "16                          NaN              NaN               NaN   \n",
       "24                          NaN              NaN               NaN   \n",
       "28                          NaN              NaN               NaN   \n",
       "40                          NaN              NaN               NaN   \n",
       "...                         ...              ...               ...   \n",
       "2233630                     NaN              NaN               NaN   \n",
       "2233659                     NaN              NaN               NaN   \n",
       "2233690                     NaN              NaN               NaN   \n",
       "2233709                     NaN              NaN               NaN   \n",
       "2233755                     NaN              NaN               NaN   \n",
       "\n",
       "        tweet_text_city                                               text  \n",
       "14                  NaN  O protocolo de segurança da #CBFC funciona tan...  \n",
       "16                  NaN    Nem festa de ano novo vai ter...nmrl corona vsf  \n",
       "24                  NaN                A eleição atrapalhava as medidas 😉   \n",
       "28                  NaN  Para os curiosos, não! Não é teste de gravidez...  \n",
       "40                  NaN      Faz ventosa e ganha corona de brinde kkkkkkkk  \n",
       "...                 ...                                                ...  \n",
       "2233630             NaN  Em números relativos, somos 2,7% da população ...  \n",
       "2233659             NaN  Fiquei sabendo hoje que meu pneumologista, e u...  \n",
       "2233690             NaN   nada, só disseram que ele ta com corona. Quer...  \n",
       "2233709             NaN                   Nenhum. Só quando pegou covid19.  \n",
       "2233755             NaN   E pra brindar a narrativa coloca a culpa pela...  \n",
       "\n",
       "[110926 rows x 38 columns]"
      ]
     },
     "execution_count": 107,
     "metadata": {},
     "output_type": "execute_result"
    }
   ],
   "source": [
    "df_pt.loc[df_pt['tweet_text_state'].apply(lambda x: type(x) == float)]"
   ]
  },
  {
   "cell_type": "markdown",
   "id": "7dd5649f-8a7f-4b28-822b-bb1ce4662c16",
   "metadata": {
    "jp-MarkdownHeadingCollapsed": true,
    "tags": []
   },
   "source": [
    "#### querying example"
   ]
  },
  {
   "cell_type": "code",
   "execution_count": 123,
   "id": "809a7b80-3768-4b5d-be25-153c81855643",
   "metadata": {},
   "outputs": [],
   "source": [
    "# select the tweets from São Paulo in January of 2021\n",
    "df_saopaulo_2021_jan = df_pt.loc[\n",
    "    df_pt['tweet_text_state'].apply(lambda x: type(x) == str and 'São Paulo' in x) &\n",
    "    (df_pt['date_time'] >= '2021-01-01') & (df_pt['date_time'] < '2021-04-01')\n",
    "]"
   ]
  },
  {
   "cell_type": "code",
   "execution_count": 124,
   "id": "081c4613-38b3-42d7-b407-896d97e069d1",
   "metadata": {},
   "outputs": [
    {
     "data": {
      "text/plain": [
       "476975"
      ]
     },
     "execution_count": 124,
     "metadata": {},
     "output_type": "execute_result"
    }
   ],
   "source": [
    "len(df_saopaulo_2021_jan)"
   ]
  },
  {
   "cell_type": "code",
   "execution_count": null,
   "id": "ecfcef0d-7f1a-4b5b-a1c1-14c621383df0",
   "metadata": {},
   "outputs": [],
   "source": []
  },
  {
   "cell_type": "markdown",
   "id": "8bf5bc1a-715a-4be6-bc9c-74f8d7a1937a",
   "metadata": {
    "jp-MarkdownHeadingCollapsed": true,
    "tags": []
   },
   "source": [
    "#### load a multiligual model"
   ]
  },
  {
   "cell_type": "code",
   "execution_count": 115,
   "id": "163adc91-3c48-4985-a586-578657eac7f0",
   "metadata": {},
   "outputs": [
    {
     "data": {
      "application/vnd.jupyter.widget-view+json": {
       "model_id": "04ebdb44570d4ef9b5a94c7be026ad7a",
       "version_major": 2,
       "version_minor": 0
      },
      "text/plain": [
       "Downloading (…)0fe39/.gitattributes:   0%|          | 0.00/968 [00:00<?, ?B/s]"
      ]
     },
     "metadata": {},
     "output_type": "display_data"
    },
    {
     "data": {
      "application/vnd.jupyter.widget-view+json": {
       "model_id": "943d96d9ed4a4e39b260ed83098e2a1a",
       "version_major": 2,
       "version_minor": 0
      },
      "text/plain": [
       "Downloading (…)_Pooling/config.json:   0%|          | 0.00/190 [00:00<?, ?B/s]"
      ]
     },
     "metadata": {},
     "output_type": "display_data"
    },
    {
     "data": {
      "application/vnd.jupyter.widget-view+json": {
       "model_id": "935f82452a5f4027b3833b08d1494c0f",
       "version_major": 2,
       "version_minor": 0
      },
      "text/plain": [
       "Downloading (…)83e900fe39/README.md:   0%|          | 0.00/3.79k [00:00<?, ?B/s]"
      ]
     },
     "metadata": {},
     "output_type": "display_data"
    },
    {
     "data": {
      "application/vnd.jupyter.widget-view+json": {
       "model_id": "94f22a382764423aae226d2bd227dc5e",
       "version_major": 2,
       "version_minor": 0
      },
      "text/plain": [
       "Downloading (…)e900fe39/config.json:   0%|          | 0.00/645 [00:00<?, ?B/s]"
      ]
     },
     "metadata": {},
     "output_type": "display_data"
    },
    {
     "data": {
      "application/vnd.jupyter.widget-view+json": {
       "model_id": "680978c4eb1f4579b7ed46b06dba1b94",
       "version_major": 2,
       "version_minor": 0
      },
      "text/plain": [
       "Downloading (…)ce_transformers.json:   0%|          | 0.00/122 [00:00<?, ?B/s]"
      ]
     },
     "metadata": {},
     "output_type": "display_data"
    },
    {
     "data": {
      "application/vnd.jupyter.widget-view+json": {
       "model_id": "d47ff65953f646609d33d07dcd0cfb88",
       "version_major": 2,
       "version_minor": 0
      },
      "text/plain": [
       "Downloading pytorch_model.bin:   0%|          | 0.00/471M [00:00<?, ?B/s]"
      ]
     },
     "metadata": {},
     "output_type": "display_data"
    },
    {
     "data": {
      "application/vnd.jupyter.widget-view+json": {
       "model_id": "13e96da3891a4d1dac4be2882ba42016",
       "version_major": 2,
       "version_minor": 0
      },
      "text/plain": [
       "Downloading (…)nce_bert_config.json:   0%|          | 0.00/53.0 [00:00<?, ?B/s]"
      ]
     },
     "metadata": {},
     "output_type": "display_data"
    },
    {
     "data": {
      "application/vnd.jupyter.widget-view+json": {
       "model_id": "7d596cee9cae4db0883e6a44dca29770",
       "version_major": 2,
       "version_minor": 0
      },
      "text/plain": [
       "Downloading (…)tencepiece.bpe.model:   0%|          | 0.00/5.07M [00:00<?, ?B/s]"
      ]
     },
     "metadata": {},
     "output_type": "display_data"
    },
    {
     "data": {
      "application/vnd.jupyter.widget-view+json": {
       "model_id": "3e71263df8bc4e6681767573cb841ef9",
       "version_major": 2,
       "version_minor": 0
      },
      "text/plain": [
       "Downloading (…)cial_tokens_map.json:   0%|          | 0.00/239 [00:00<?, ?B/s]"
      ]
     },
     "metadata": {},
     "output_type": "display_data"
    },
    {
     "data": {
      "application/vnd.jupyter.widget-view+json": {
       "model_id": "0855cd8e16fd45568b1c22a9764ccd38",
       "version_major": 2,
       "version_minor": 0
      },
      "text/plain": [
       "Downloading tokenizer.json:   0%|          | 0.00/9.08M [00:00<?, ?B/s]"
      ]
     },
     "metadata": {},
     "output_type": "display_data"
    },
    {
     "data": {
      "application/vnd.jupyter.widget-view+json": {
       "model_id": "ff62c7b37c814ba49b5e06bb2c3d29fa",
       "version_major": 2,
       "version_minor": 0
      },
      "text/plain": [
       "Downloading (…)okenizer_config.json:   0%|          | 0.00/480 [00:00<?, ?B/s]"
      ]
     },
     "metadata": {},
     "output_type": "display_data"
    },
    {
     "data": {
      "application/vnd.jupyter.widget-view+json": {
       "model_id": "db66bcd7d76b4143b9879e5c3a9fca96",
       "version_major": 2,
       "version_minor": 0
      },
      "text/plain": [
       "Downloading unigram.json:   0%|          | 0.00/14.8M [00:00<?, ?B/s]"
      ]
     },
     "metadata": {},
     "output_type": "display_data"
    },
    {
     "data": {
      "application/vnd.jupyter.widget-view+json": {
       "model_id": "4294f48a21c1465699ee8ae3446cbad1",
       "version_major": 2,
       "version_minor": 0
      },
      "text/plain": [
       "Downloading (…)900fe39/modules.json:   0%|          | 0.00/229 [00:00<?, ?B/s]"
      ]
     },
     "metadata": {},
     "output_type": "display_data"
    }
   ],
   "source": [
    "model_multiligual = SentenceTransformer('paraphrase-multilingual-MiniLM-L12-v2')"
   ]
  },
  {
   "cell_type": "markdown",
   "id": "a4ad4b08-82c3-451b-abe7-054deca9432e",
   "metadata": {
    "jp-MarkdownHeadingCollapsed": true,
    "tags": []
   },
   "source": [
    "#### transform the sao paulo subset"
   ]
  },
  {
   "cell_type": "code",
   "execution_count": 116,
   "id": "8c1f447b-733d-4c3c-8247-8fc3d276d629",
   "metadata": {},
   "outputs": [],
   "source": [
    "# use the df.to_numpy() function\n",
    "tes = df_saopaulo_2021_jan[:1000][\"text\"].to_numpy()"
   ]
  },
  {
   "cell_type": "code",
   "execution_count": 125,
   "id": "2d90066c-27f3-4398-a9a8-5c5f19fb70b0",
   "metadata": {},
   "outputs": [],
   "source": [
    "n_samples = len(df_saopaulo_2021_jan)\n",
    "n_test = len(tes)"
   ]
  },
  {
   "cell_type": "code",
   "execution_count": 117,
   "id": "5ce7b7db-656b-4f99-88a4-3cf4bc1ea395",
   "metadata": {},
   "outputs": [
    {
     "name": "stdout",
     "output_type": "stream",
     "text": [
      "done in 32.685s.\n"
     ]
    }
   ],
   "source": [
    "\n",
    "\n",
    "t0 = time()\n",
    "test_embeddings = model_multiligual.encode(tes)\n",
    "td = time() - t0\n",
    "print(\"done in %0.3fs.\" % (td))"
   ]
  },
  {
   "cell_type": "code",
   "execution_count": 126,
   "id": "3ba4dfa8-2d54-4796-967b-accc18893966",
   "metadata": {},
   "outputs": [
    {
     "name": "stdout",
     "output_type": "stream",
     "text": [
      "estimated time to finish:  15589.769777321813 s\n",
      "in hours:  4.330491604811614 h\n"
     ]
    }
   ],
   "source": [
    "time_all = td/n_test*n_samples\n",
    "print('estimated time to finish: ', time_all, 's')\n",
    "print('in hours: ', time_all / 3600, 'h')"
   ]
  },
  {
   "cell_type": "code",
   "execution_count": null,
   "id": "f1210f4b-d292-4c41-bcd0-20b7919dbf5d",
   "metadata": {},
   "outputs": [],
   "source": []
  },
  {
   "cell_type": "code",
   "execution_count": 122,
   "id": "004ade28-bcda-445f-a150-ddce5342c8fc",
   "metadata": {},
   "outputs": [
    {
     "data": {
      "text/plain": [
       "tensor([[0.5128]])"
      ]
     },
     "execution_count": 122,
     "metadata": {},
     "output_type": "execute_result"
    }
   ],
   "source": [
    "p = model_multiligual.encode(['falta de leitos de UTI', 'icu bed shortage'])\n",
    "util.pytorch_cos_sim(p[0, :], p[1, :])"
   ]
  },
  {
   "cell_type": "markdown",
   "id": "bfa3fed9-3f43-4c5a-addb-ac9f27f3616e",
   "metadata": {
    "jp-MarkdownHeadingCollapsed": true,
    "tags": []
   },
   "source": [
    "#### run the entire subset"
   ]
  },
  {
   "cell_type": "code",
   "execution_count": 135,
   "id": "bfd18f54-64d1-4604-b514-fa308acd050d",
   "metadata": {},
   "outputs": [],
   "source": [
    "from tqdm import tqdm"
   ]
  },
  {
   "cell_type": "code",
   "execution_count": 137,
   "id": "a8560b14-0d03-4096-8029-5b30d4755e9c",
   "metadata": {},
   "outputs": [],
   "source": [
    "n_batch = 10000\n",
    "num_loop = n_samples // n_batch\n",
    "\n",
    "output_dir = 'vectorized_saopaulo_2021Q1'"
   ]
  },
  {
   "cell_type": "code",
   "execution_count": 138,
   "id": "b29878d8-41ef-4a85-a072-bb8cfa712efa",
   "metadata": {},
   "outputs": [
    {
     "data": {
      "text/plain": [
       "47"
      ]
     },
     "execution_count": 138,
     "metadata": {},
     "output_type": "execute_result"
    }
   ],
   "source": [
    "num_loop"
   ]
  },
  {
   "cell_type": "code",
   "execution_count": 140,
   "id": "1b5ffa73-3342-4f1d-b079-90afde13e7bc",
   "metadata": {},
   "outputs": [],
   "source": [
    "df_saopaulo_2021_jan.to_csv(output_dir + '/' + 'df_saopaulo_2021_Q1.csv')"
   ]
  },
  {
   "cell_type": "code",
   "execution_count": 142,
   "id": "dc72daeb-ce04-4457-b443-fc170058d2fd",
   "metadata": {},
   "outputs": [
    {
     "name": "stderr",
     "output_type": "stream",
     "text": [
      "100%|████████████████████████████████████████████████████████████████████████████| 47/47 [4:36:13<00:00, 352.62s/it]\n"
     ]
    }
   ],
   "source": [
    "for i in tqdm(range(num_loop+1)):\n",
    "    # use the df.to_numpy() function\n",
    "    chunk = df_saopaulo_2021_jan[i*n_batch:min((i+1)*n_batch, n_samples)]\n",
    "    chunk_text = chunk[\"text\"].to_numpy()\n",
    "    # vectorized\n",
    "    vectorized = model_multiligual.encode(chunk_text)\n",
    "    \n",
    "    # store to file\n",
    "    #chunk.to_csv(output_dir + '/' + 'datachunk_%02d.csv' % i)\n",
    "    np.save((output_dir + '/' + ('data_vectorized_%02d.csv' % i)), vectorized)"
   ]
  },
  {
   "cell_type": "code",
   "execution_count": null,
   "id": "8a5633ed-c1d5-4091-8131-e936da55f1b5",
   "metadata": {},
   "outputs": [],
   "source": []
  },
  {
   "cell_type": "markdown",
   "id": "bec70362-b0c2-4a86-8ed1-c256f672faee",
   "metadata": {
    "jp-MarkdownHeadingCollapsed": true,
    "tags": []
   },
   "source": [
    "#### check the created files"
   ]
  },
  {
   "cell_type": "code",
   "execution_count": 139,
   "id": "8c871214-c056-47ed-b218-c4edd0a0df74",
   "metadata": {
    "collapsed": true,
    "jupyter": {
     "outputs_hidden": true
    },
    "tags": []
   },
   "outputs": [
    {
     "data": {
      "text/html": [
       "<div>\n",
       "<style scoped>\n",
       "    .dataframe tbody tr th:only-of-type {\n",
       "        vertical-align: middle;\n",
       "    }\n",
       "\n",
       "    .dataframe tbody tr th {\n",
       "        vertical-align: top;\n",
       "    }\n",
       "\n",
       "    .dataframe thead th {\n",
       "        text-align: right;\n",
       "    }\n",
       "</style>\n",
       "<table border=\"1\" class=\"dataframe\">\n",
       "  <thead>\n",
       "    <tr style=\"text-align: right;\">\n",
       "      <th></th>\n",
       "      <th>tweet_id</th>\n",
       "      <th>date_time</th>\n",
       "      <th>lang</th>\n",
       "      <th>user_id</th>\n",
       "      <th>retweeted_id</th>\n",
       "      <th>quoted_id</th>\n",
       "      <th>in_reply_to_id</th>\n",
       "      <th>sentiment_conf</th>\n",
       "      <th>sentiment_label</th>\n",
       "      <th>user_type</th>\n",
       "      <th>...</th>\n",
       "      <th>user_profile_description_country_code</th>\n",
       "      <th>user_profile_description_state</th>\n",
       "      <th>user_profile_description_county</th>\n",
       "      <th>user_profile_description_city</th>\n",
       "      <th>tweet_text_toponyms</th>\n",
       "      <th>tweet_text_country_code</th>\n",
       "      <th>tweet_text_state</th>\n",
       "      <th>tweet_text_county</th>\n",
       "      <th>tweet_text_city</th>\n",
       "      <th>text</th>\n",
       "    </tr>\n",
       "  </thead>\n",
       "  <tbody>\n",
       "    <tr>\n",
       "      <th>332944</th>\n",
       "      <td>1344795639989874688</td>\n",
       "      <td>2021-01-01 00:00:40</td>\n",
       "      <td>pt</td>\n",
       "      <td>1.282810e+18</td>\n",
       "      <td>1.344795e+18</td>\n",
       "      <td>NaN</td>\n",
       "      <td>NaN</td>\n",
       "      <td>0.690</td>\n",
       "      <td>1.0</td>\n",
       "      <td>PER</td>\n",
       "      <td>...</td>\n",
       "      <td>NaN</td>\n",
       "      <td>NaN</td>\n",
       "      <td>NaN</td>\n",
       "      <td>NaN</td>\n",
       "      <td>['Bolsonaro']</td>\n",
       "      <td>['BR']</td>\n",
       "      <td>['São Paulo']</td>\n",
       "      <td>['UNK']</td>\n",
       "      <td>['UNK']</td>\n",
       "      <td>Feliz novo ano, amigues. Saúde, disposição pra...</td>\n",
       "    </tr>\n",
       "    <tr>\n",
       "      <th>332949</th>\n",
       "      <td>1344795905447370758</td>\n",
       "      <td>2021-01-01 00:01:43</td>\n",
       "      <td>pt</td>\n",
       "      <td>2.997481e+08</td>\n",
       "      <td>1.344787e+18</td>\n",
       "      <td>NaN</td>\n",
       "      <td>NaN</td>\n",
       "      <td>0.557</td>\n",
       "      <td>-1.0</td>\n",
       "      <td>PER</td>\n",
       "      <td>...</td>\n",
       "      <td>NaN</td>\n",
       "      <td>NaN</td>\n",
       "      <td>NaN</td>\n",
       "      <td>NaN</td>\n",
       "      <td>['Brasil', 'Bolsonaro']</td>\n",
       "      <td>['BR', 'BR']</td>\n",
       "      <td>['UNK', 'São Paulo']</td>\n",
       "      <td>['UNK', 'UNK']</td>\n",
       "      <td>['UNK', 'UNK']</td>\n",
       "      <td>O Brasil já registrou até agora, 194.976 morte...</td>\n",
       "    </tr>\n",
       "    <tr>\n",
       "      <th>332953</th>\n",
       "      <td>1344795952331317256</td>\n",
       "      <td>2021-01-01 00:01:54</td>\n",
       "      <td>pt</td>\n",
       "      <td>1.202404e+18</td>\n",
       "      <td>1.344654e+18</td>\n",
       "      <td>NaN</td>\n",
       "      <td>NaN</td>\n",
       "      <td>0.598</td>\n",
       "      <td>0.0</td>\n",
       "      <td>UNK</td>\n",
       "      <td>...</td>\n",
       "      <td>NaN</td>\n",
       "      <td>NaN</td>\n",
       "      <td>NaN</td>\n",
       "      <td>NaN</td>\n",
       "      <td>['Bolsonaro']</td>\n",
       "      <td>['BR']</td>\n",
       "      <td>['São Paulo']</td>\n",
       "      <td>['UNK']</td>\n",
       "      <td>['UNK']</td>\n",
       "      <td>Eu tenho poucos desejos p 2021:\\n🐊 Manter minh...</td>\n",
       "    </tr>\n",
       "    <tr>\n",
       "      <th>332957</th>\n",
       "      <td>1344796102789373952</td>\n",
       "      <td>2021-01-01 00:02:30</td>\n",
       "      <td>pt</td>\n",
       "      <td>2.932204e+09</td>\n",
       "      <td>1.344752e+18</td>\n",
       "      <td>NaN</td>\n",
       "      <td>NaN</td>\n",
       "      <td>0.615</td>\n",
       "      <td>-1.0</td>\n",
       "      <td>PER</td>\n",
       "      <td>...</td>\n",
       "      <td>NaN</td>\n",
       "      <td>NaN</td>\n",
       "      <td>NaN</td>\n",
       "      <td>NaN</td>\n",
       "      <td>['Brasil', 'Bolsonaro']</td>\n",
       "      <td>['BR', 'BR']</td>\n",
       "      <td>['UNK', 'São Paulo']</td>\n",
       "      <td>['UNK', 'UNK']</td>\n",
       "      <td>['UNK', 'UNK']</td>\n",
       "      <td>O ano de 2020 e a pandemia da COVID deixaram u...</td>\n",
       "    </tr>\n",
       "    <tr>\n",
       "      <th>332963</th>\n",
       "      <td>1344796225862852610</td>\n",
       "      <td>2021-01-01 00:03:00</td>\n",
       "      <td>pt</td>\n",
       "      <td>4.990873e+08</td>\n",
       "      <td>NaN</td>\n",
       "      <td>NaN</td>\n",
       "      <td>NaN</td>\n",
       "      <td>0.920</td>\n",
       "      <td>1.0</td>\n",
       "      <td>PER</td>\n",
       "      <td>...</td>\n",
       "      <td>NaN</td>\n",
       "      <td>NaN</td>\n",
       "      <td>NaN</td>\n",
       "      <td>NaN</td>\n",
       "      <td>['Jardim Paraiso', 'Botucatu']</td>\n",
       "      <td>['BR', 'BR']</td>\n",
       "      <td>['São Paulo', 'São Paulo']</td>\n",
       "      <td>['Região Metropolitana do Vale do Paraíba e Li...</td>\n",
       "      <td>['Jacareí', 'Botucatu']</td>\n",
       "      <td>Esperando a chegada de 2021, com ela  e muita ...</td>\n",
       "    </tr>\n",
       "    <tr>\n",
       "      <th>...</th>\n",
       "      <td>...</td>\n",
       "      <td>...</td>\n",
       "      <td>...</td>\n",
       "      <td>...</td>\n",
       "      <td>...</td>\n",
       "      <td>...</td>\n",
       "      <td>...</td>\n",
       "      <td>...</td>\n",
       "      <td>...</td>\n",
       "      <td>...</td>\n",
       "      <td>...</td>\n",
       "      <td>...</td>\n",
       "      <td>...</td>\n",
       "      <td>...</td>\n",
       "      <td>...</td>\n",
       "      <td>...</td>\n",
       "      <td>...</td>\n",
       "      <td>...</td>\n",
       "      <td>...</td>\n",
       "      <td>...</td>\n",
       "      <td>...</td>\n",
       "    </tr>\n",
       "    <tr>\n",
       "      <th>2233772</th>\n",
       "      <td>1377410174554624003</td>\n",
       "      <td>2021-03-31 23:59:11</td>\n",
       "      <td>pt</td>\n",
       "      <td>4.063193e+08</td>\n",
       "      <td>1.377403e+18</td>\n",
       "      <td>NaN</td>\n",
       "      <td>NaN</td>\n",
       "      <td>0.920</td>\n",
       "      <td>-1.0</td>\n",
       "      <td>PER</td>\n",
       "      <td>...</td>\n",
       "      <td>['BR']</td>\n",
       "      <td>['UNK']</td>\n",
       "      <td>['UNK']</td>\n",
       "      <td>['UNK']</td>\n",
       "      <td>['Bolsonaro']</td>\n",
       "      <td>['BR']</td>\n",
       "      <td>['São Paulo']</td>\n",
       "      <td>['UNK']</td>\n",
       "      <td>['UNK']</td>\n",
       "      <td>Depois de meses criticando o governo por falta...</td>\n",
       "    </tr>\n",
       "    <tr>\n",
       "      <th>2233773</th>\n",
       "      <td>1377410177574506496</td>\n",
       "      <td>2021-03-31 23:59:12</td>\n",
       "      <td>pt</td>\n",
       "      <td>1.101682e+08</td>\n",
       "      <td>1.377371e+18</td>\n",
       "      <td>NaN</td>\n",
       "      <td>NaN</td>\n",
       "      <td>0.922</td>\n",
       "      <td>-1.0</td>\n",
       "      <td>PER</td>\n",
       "      <td>...</td>\n",
       "      <td>NaN</td>\n",
       "      <td>NaN</td>\n",
       "      <td>NaN</td>\n",
       "      <td>NaN</td>\n",
       "      <td>['Bolsonaro']</td>\n",
       "      <td>['BR']</td>\n",
       "      <td>['São Paulo']</td>\n",
       "      <td>['UNK']</td>\n",
       "      <td>['UNK']</td>\n",
       "      <td>Bolsonaro é o produto da escrotocracia milicia...</td>\n",
       "    </tr>\n",
       "    <tr>\n",
       "      <th>2233789</th>\n",
       "      <td>1377410298781564931</td>\n",
       "      <td>2021-03-31 23:59:40</td>\n",
       "      <td>pt</td>\n",
       "      <td>1.158449e+18</td>\n",
       "      <td>1.377380e+18</td>\n",
       "      <td>NaN</td>\n",
       "      <td>NaN</td>\n",
       "      <td>0.799</td>\n",
       "      <td>0.0</td>\n",
       "      <td>PER</td>\n",
       "      <td>...</td>\n",
       "      <td>NaN</td>\n",
       "      <td>NaN</td>\n",
       "      <td>NaN</td>\n",
       "      <td>NaN</td>\n",
       "      <td>['Butantan', 'Covid', 'Sorocaba']</td>\n",
       "      <td>['CO', 'IT', 'BR']</td>\n",
       "      <td>['Antioquia', 'Piemont', 'São Paulo']</td>\n",
       "      <td>['Sonsón', 'Cuneo', 'Região Metropolitana de S...</td>\n",
       "      <td>['UNK', 'UNK', 'Sorocaba']</td>\n",
       "      <td>Os cientistas do Butantan que coordenam uma re...</td>\n",
       "    </tr>\n",
       "    <tr>\n",
       "      <th>2233797</th>\n",
       "      <td>1377410325423685636</td>\n",
       "      <td>2021-03-31 23:59:47</td>\n",
       "      <td>pt</td>\n",
       "      <td>3.392868e+08</td>\n",
       "      <td>1.377313e+18</td>\n",
       "      <td>NaN</td>\n",
       "      <td>NaN</td>\n",
       "      <td>0.882</td>\n",
       "      <td>-1.0</td>\n",
       "      <td>UNK</td>\n",
       "      <td>...</td>\n",
       "      <td>NaN</td>\n",
       "      <td>NaN</td>\n",
       "      <td>NaN</td>\n",
       "      <td>NaN</td>\n",
       "      <td>['Bolsonaro']</td>\n",
       "      <td>['BR']</td>\n",
       "      <td>['São Paulo']</td>\n",
       "      <td>['UNK']</td>\n",
       "      <td>['UNK']</td>\n",
       "      <td>A ex-BBB e campeã de A Fazenda Flávia Viana, q...</td>\n",
       "    </tr>\n",
       "    <tr>\n",
       "      <th>2233798</th>\n",
       "      <td>1377410332369461253</td>\n",
       "      <td>2021-03-31 23:59:48</td>\n",
       "      <td>pt</td>\n",
       "      <td>4.718284e+07</td>\n",
       "      <td>1.377086e+18</td>\n",
       "      <td>NaN</td>\n",
       "      <td>NaN</td>\n",
       "      <td>0.648</td>\n",
       "      <td>0.0</td>\n",
       "      <td>PER</td>\n",
       "      <td>...</td>\n",
       "      <td>NaN</td>\n",
       "      <td>NaN</td>\n",
       "      <td>NaN</td>\n",
       "      <td>NaN</td>\n",
       "      <td>['VDEO', 'Bolsonaro']</td>\n",
       "      <td>['TG', 'BR']</td>\n",
       "      <td>['Plateaux Region', 'São Paulo']</td>\n",
       "      <td>['UNK', 'UNK']</td>\n",
       "      <td>['UNK', 'UNK']</td>\n",
       "      <td>VÍDEO: Com recorde de 3.780 mortes por covid e...</td>\n",
       "    </tr>\n",
       "  </tbody>\n",
       "</table>\n",
       "<p>476975 rows × 38 columns</p>\n",
       "</div>"
      ],
      "text/plain": [
       "                    tweet_id            date_time lang       user_id  \\\n",
       "332944   1344795639989874688  2021-01-01 00:00:40   pt  1.282810e+18   \n",
       "332949   1344795905447370758  2021-01-01 00:01:43   pt  2.997481e+08   \n",
       "332953   1344795952331317256  2021-01-01 00:01:54   pt  1.202404e+18   \n",
       "332957   1344796102789373952  2021-01-01 00:02:30   pt  2.932204e+09   \n",
       "332963   1344796225862852610  2021-01-01 00:03:00   pt  4.990873e+08   \n",
       "...                      ...                  ...  ...           ...   \n",
       "2233772  1377410174554624003  2021-03-31 23:59:11   pt  4.063193e+08   \n",
       "2233773  1377410177574506496  2021-03-31 23:59:12   pt  1.101682e+08   \n",
       "2233789  1377410298781564931  2021-03-31 23:59:40   pt  1.158449e+18   \n",
       "2233797  1377410325423685636  2021-03-31 23:59:47   pt  3.392868e+08   \n",
       "2233798  1377410332369461253  2021-03-31 23:59:48   pt  4.718284e+07   \n",
       "\n",
       "         retweeted_id  quoted_id  in_reply_to_id  sentiment_conf  \\\n",
       "332944   1.344795e+18        NaN             NaN           0.690   \n",
       "332949   1.344787e+18        NaN             NaN           0.557   \n",
       "332953   1.344654e+18        NaN             NaN           0.598   \n",
       "332957   1.344752e+18        NaN             NaN           0.615   \n",
       "332963            NaN        NaN             NaN           0.920   \n",
       "...               ...        ...             ...             ...   \n",
       "2233772  1.377403e+18        NaN             NaN           0.920   \n",
       "2233773  1.377371e+18        NaN             NaN           0.922   \n",
       "2233789  1.377380e+18        NaN             NaN           0.799   \n",
       "2233797  1.377313e+18        NaN             NaN           0.882   \n",
       "2233798  1.377086e+18        NaN             NaN           0.648   \n",
       "\n",
       "         sentiment_label user_type  ... user_profile_description_country_code  \\\n",
       "332944               1.0       PER  ...                                   NaN   \n",
       "332949              -1.0       PER  ...                                   NaN   \n",
       "332953               0.0       UNK  ...                                   NaN   \n",
       "332957              -1.0       PER  ...                                   NaN   \n",
       "332963               1.0       PER  ...                                   NaN   \n",
       "...                  ...       ...  ...                                   ...   \n",
       "2233772             -1.0       PER  ...                                ['BR']   \n",
       "2233773             -1.0       PER  ...                                   NaN   \n",
       "2233789              0.0       PER  ...                                   NaN   \n",
       "2233797             -1.0       UNK  ...                                   NaN   \n",
       "2233798              0.0       PER  ...                                   NaN   \n",
       "\n",
       "        user_profile_description_state user_profile_description_county  \\\n",
       "332944                             NaN                             NaN   \n",
       "332949                             NaN                             NaN   \n",
       "332953                             NaN                             NaN   \n",
       "332957                             NaN                             NaN   \n",
       "332963                             NaN                             NaN   \n",
       "...                                ...                             ...   \n",
       "2233772                        ['UNK']                         ['UNK']   \n",
       "2233773                            NaN                             NaN   \n",
       "2233789                            NaN                             NaN   \n",
       "2233797                            NaN                             NaN   \n",
       "2233798                            NaN                             NaN   \n",
       "\n",
       "        user_profile_description_city                tweet_text_toponyms  \\\n",
       "332944                            NaN                      ['Bolsonaro']   \n",
       "332949                            NaN            ['Brasil', 'Bolsonaro']   \n",
       "332953                            NaN                      ['Bolsonaro']   \n",
       "332957                            NaN            ['Brasil', 'Bolsonaro']   \n",
       "332963                            NaN     ['Jardim Paraiso', 'Botucatu']   \n",
       "...                               ...                                ...   \n",
       "2233772                       ['UNK']                      ['Bolsonaro']   \n",
       "2233773                           NaN                      ['Bolsonaro']   \n",
       "2233789                           NaN  ['Butantan', 'Covid', 'Sorocaba']   \n",
       "2233797                           NaN                      ['Bolsonaro']   \n",
       "2233798                           NaN              ['VDEO', 'Bolsonaro']   \n",
       "\n",
       "        tweet_text_country_code                       tweet_text_state  \\\n",
       "332944                   ['BR']                          ['São Paulo']   \n",
       "332949             ['BR', 'BR']                   ['UNK', 'São Paulo']   \n",
       "332953                   ['BR']                          ['São Paulo']   \n",
       "332957             ['BR', 'BR']                   ['UNK', 'São Paulo']   \n",
       "332963             ['BR', 'BR']             ['São Paulo', 'São Paulo']   \n",
       "...                         ...                                    ...   \n",
       "2233772                  ['BR']                          ['São Paulo']   \n",
       "2233773                  ['BR']                          ['São Paulo']   \n",
       "2233789      ['CO', 'IT', 'BR']  ['Antioquia', 'Piemont', 'São Paulo']   \n",
       "2233797                  ['BR']                          ['São Paulo']   \n",
       "2233798            ['TG', 'BR']       ['Plateaux Region', 'São Paulo']   \n",
       "\n",
       "                                         tweet_text_county  \\\n",
       "332944                                             ['UNK']   \n",
       "332949                                      ['UNK', 'UNK']   \n",
       "332953                                             ['UNK']   \n",
       "332957                                      ['UNK', 'UNK']   \n",
       "332963   ['Região Metropolitana do Vale do Paraíba e Li...   \n",
       "...                                                    ...   \n",
       "2233772                                            ['UNK']   \n",
       "2233773                                            ['UNK']   \n",
       "2233789  ['Sonsón', 'Cuneo', 'Região Metropolitana de S...   \n",
       "2233797                                            ['UNK']   \n",
       "2233798                                     ['UNK', 'UNK']   \n",
       "\n",
       "                    tweet_text_city  \\\n",
       "332944                      ['UNK']   \n",
       "332949               ['UNK', 'UNK']   \n",
       "332953                      ['UNK']   \n",
       "332957               ['UNK', 'UNK']   \n",
       "332963      ['Jacareí', 'Botucatu']   \n",
       "...                             ...   \n",
       "2233772                     ['UNK']   \n",
       "2233773                     ['UNK']   \n",
       "2233789  ['UNK', 'UNK', 'Sorocaba']   \n",
       "2233797                     ['UNK']   \n",
       "2233798              ['UNK', 'UNK']   \n",
       "\n",
       "                                                      text  \n",
       "332944   Feliz novo ano, amigues. Saúde, disposição pra...  \n",
       "332949   O Brasil já registrou até agora, 194.976 morte...  \n",
       "332953   Eu tenho poucos desejos p 2021:\\n🐊 Manter minh...  \n",
       "332957   O ano de 2020 e a pandemia da COVID deixaram u...  \n",
       "332963   Esperando a chegada de 2021, com ela  e muita ...  \n",
       "...                                                    ...  \n",
       "2233772  Depois de meses criticando o governo por falta...  \n",
       "2233773  Bolsonaro é o produto da escrotocracia milicia...  \n",
       "2233789  Os cientistas do Butantan que coordenam uma re...  \n",
       "2233797  A ex-BBB e campeã de A Fazenda Flávia Viana, q...  \n",
       "2233798  VÍDEO: Com recorde de 3.780 mortes por covid e...  \n",
       "\n",
       "[476975 rows x 38 columns]"
      ]
     },
     "execution_count": 139,
     "metadata": {},
     "output_type": "execute_result"
    }
   ],
   "source": [
    "df_saopaulo_2021_jan"
   ]
  },
  {
   "cell_type": "code",
   "execution_count": 168,
   "id": "cd7e119f-c0a6-49a4-8211-35195691f360",
   "metadata": {},
   "outputs": [],
   "source": [
    "c_00 = np.load(output_dir + '/' + ('data_vectorized_00.csv.npy'))\n",
    "c_06 = np.load(output_dir + '/' + ('data_vectorized_06.csv.npy'))\n",
    "c_46 = np.load(output_dir + '/' + ('data_vectorized_46.csv.npy'))"
   ]
  },
  {
   "cell_type": "code",
   "execution_count": 169,
   "id": "a54c7698-de31-4554-8ff6-676898595df0",
   "metadata": {},
   "outputs": [
    {
     "data": {
      "text/plain": [
       "0"
      ]
     },
     "execution_count": 169,
     "metadata": {},
     "output_type": "execute_result"
    }
   ],
   "source": [
    "np.sum(c_00 == c_06)"
   ]
  },
  {
   "cell_type": "code",
   "execution_count": 170,
   "id": "e3cc6000-ec4b-4858-9254-11d546dd9fc3",
   "metadata": {},
   "outputs": [
    {
     "data": {
      "text/plain": [
       "(10000, 384)"
      ]
     },
     "execution_count": 170,
     "metadata": {},
     "output_type": "execute_result"
    }
   ],
   "source": [
    "c_00.shape"
   ]
  },
  {
   "cell_type": "markdown",
   "id": "4801099a-8930-4fda-8fa0-bce640afdfc4",
   "metadata": {
    "jp-MarkdownHeadingCollapsed": true,
    "tags": []
   },
   "source": [
    "#### load the generated files back into a np array"
   ]
  },
  {
   "cell_type": "code",
   "execution_count": 166,
   "id": "725bb9a7-79f4-4b6d-8123-55d4d943f33d",
   "metadata": {},
   "outputs": [],
   "source": [
    "data_vectors = []"
   ]
  },
  {
   "cell_type": "code",
   "execution_count": 173,
   "id": "9cc5e447-ee33-4413-ad10-80e73f8699cf",
   "metadata": {},
   "outputs": [
    {
     "name": "stderr",
     "output_type": "stream",
     "text": [
      "100%|██████████████████████████████████████████████████████████████████████████████| 48/48 [00:00<00:00, 178.87it/s]\n"
     ]
    }
   ],
   "source": [
    "for i in tqdm(range(num_loop+1)):\n",
    "    # read it from stored file\n",
    "    cur_chunk = np.load(output_dir + '/' + ('data_vectorized_%02d.csv.npy' % i))\n",
    "    data_vectors.append(cur_chunk)"
   ]
  },
  {
   "cell_type": "code",
   "execution_count": 174,
   "id": "05337001-961a-4930-b8d7-ba7cc4eb59cf",
   "metadata": {},
   "outputs": [],
   "source": [
    "saopaulo_q1_vectorized = np.concatenate(data_vectors)"
   ]
  },
  {
   "cell_type": "code",
   "execution_count": 176,
   "id": "3902bd49-56fc-448f-a8be-098b41036d89",
   "metadata": {},
   "outputs": [
    {
     "data": {
      "text/plain": [
       "(476975, 384)"
      ]
     },
     "execution_count": 176,
     "metadata": {},
     "output_type": "execute_result"
    }
   ],
   "source": [
    "saopaulo_q1_vectorized.shape"
   ]
  },
  {
   "cell_type": "markdown",
   "id": "631499bb-48fd-4e75-a256-6877377b9e9b",
   "metadata": {
    "jp-MarkdownHeadingCollapsed": true,
    "tags": []
   },
   "source": [
    "#### similarity mapping"
   ]
  },
  {
   "cell_type": "code",
   "execution_count": 177,
   "id": "31ae970a-2993-464f-be35-8c6937043e46",
   "metadata": {},
   "outputs": [],
   "source": [
    "# define an origin point on the vector space\n",
    "topic_origin = model_multiligual.encode('ICU beds shortage')"
   ]
  },
  {
   "cell_type": "code",
   "execution_count": 178,
   "id": "987d1b43-cb08-4dfe-a52e-fdc2d58db383",
   "metadata": {},
   "outputs": [],
   "source": [
    "topic_similarities = util.pytorch_cos_sim(topic_origin, saopaulo_q1_vectorized)"
   ]
  },
  {
   "cell_type": "code",
   "execution_count": 188,
   "id": "07bec4a5-40d9-45a3-9aef-e2d940b45c96",
   "metadata": {},
   "outputs": [
    {
     "data": {
      "text/plain": [
       "torch.Tensor"
      ]
     },
     "execution_count": 188,
     "metadata": {},
     "output_type": "execute_result"
    }
   ],
   "source": [
    "type(topic_similarities)"
   ]
  },
  {
   "cell_type": "code",
   "execution_count": 190,
   "id": "ada0f9de-3904-46b6-b471-9660cfdacaf4",
   "metadata": {},
   "outputs": [
    {
     "data": {
      "text/plain": [
       "137551"
      ]
     },
     "execution_count": 190,
     "metadata": {},
     "output_type": "execute_result"
    }
   ],
   "source": [
    "np.sum(topic_similarities.numpy() >= 0.2)"
   ]
  },
  {
   "cell_type": "code",
   "execution_count": 200,
   "id": "68393dee-725c-46ea-9771-5d3db9ab7b26",
   "metadata": {},
   "outputs": [
    {
     "data": {
      "text/plain": [
       "array([False, False, False, ..., False, False, False])"
      ]
     },
     "execution_count": 200,
     "metadata": {},
     "output_type": "execute_result"
    }
   ],
   "source": [
    "(topic_similarities[0] >= 0.2).numpy()"
   ]
  },
  {
   "cell_type": "markdown",
   "id": "87db6a14-1079-4c20-9e8c-aa998544df2e",
   "metadata": {
    "tags": []
   },
   "source": [
    "#### now work with df_saopaulo_2021_jan and filter out tweets"
   ]
  },
  {
   "cell_type": "code",
   "execution_count": 202,
   "id": "8cc1ed41-e543-403f-a000-68119ed7ed20",
   "metadata": {},
   "outputs": [],
   "source": [
    "topic_relevancy_filtered = df_saopaulo_2021_jan.loc[(topic_similarities[0] >= 0.2).numpy()]"
   ]
  },
  {
   "cell_type": "code",
   "execution_count": 203,
   "id": "9157fa1d-a1dc-4003-85bb-1c916adfef91",
   "metadata": {
    "collapsed": true,
    "jupyter": {
     "outputs_hidden": true
    },
    "tags": []
   },
   "outputs": [
    {
     "data": {
      "text/html": [
       "<div>\n",
       "<style scoped>\n",
       "    .dataframe tbody tr th:only-of-type {\n",
       "        vertical-align: middle;\n",
       "    }\n",
       "\n",
       "    .dataframe tbody tr th {\n",
       "        vertical-align: top;\n",
       "    }\n",
       "\n",
       "    .dataframe thead th {\n",
       "        text-align: right;\n",
       "    }\n",
       "</style>\n",
       "<table border=\"1\" class=\"dataframe\">\n",
       "  <thead>\n",
       "    <tr style=\"text-align: right;\">\n",
       "      <th></th>\n",
       "      <th>tweet_id</th>\n",
       "      <th>date_time</th>\n",
       "      <th>lang</th>\n",
       "      <th>user_id</th>\n",
       "      <th>retweeted_id</th>\n",
       "      <th>quoted_id</th>\n",
       "      <th>in_reply_to_id</th>\n",
       "      <th>sentiment_conf</th>\n",
       "      <th>sentiment_label</th>\n",
       "      <th>user_type</th>\n",
       "      <th>...</th>\n",
       "      <th>user_profile_description_country_code</th>\n",
       "      <th>user_profile_description_state</th>\n",
       "      <th>user_profile_description_county</th>\n",
       "      <th>user_profile_description_city</th>\n",
       "      <th>tweet_text_toponyms</th>\n",
       "      <th>tweet_text_country_code</th>\n",
       "      <th>tweet_text_state</th>\n",
       "      <th>tweet_text_county</th>\n",
       "      <th>tweet_text_city</th>\n",
       "      <th>text</th>\n",
       "    </tr>\n",
       "  </thead>\n",
       "  <tbody>\n",
       "    <tr>\n",
       "      <th>332999</th>\n",
       "      <td>1344797202913357826</td>\n",
       "      <td>2021-01-01 00:06:52</td>\n",
       "      <td>pt</td>\n",
       "      <td>2.540066e+07</td>\n",
       "      <td>1.344712e+18</td>\n",
       "      <td>NaN</td>\n",
       "      <td>NaN</td>\n",
       "      <td>0.733</td>\n",
       "      <td>-1.0</td>\n",
       "      <td>PER</td>\n",
       "      <td>...</td>\n",
       "      <td>NaN</td>\n",
       "      <td>NaN</td>\n",
       "      <td>NaN</td>\n",
       "      <td>NaN</td>\n",
       "      <td>['COVID', 'Sinal']</td>\n",
       "      <td>['IT', 'BR']</td>\n",
       "      <td>['Piemont', 'São Paulo']</td>\n",
       "      <td>['Cuneo', 'Região Metropolitana de São Paulo']</td>\n",
       "      <td>['UNK', 'São Paulo']</td>\n",
       "      <td>Em 2019, tivemos menos de 10 mil mortes por sí...</td>\n",
       "    </tr>\n",
       "    <tr>\n",
       "      <th>333001</th>\n",
       "      <td>1344797278050136065</td>\n",
       "      <td>2021-01-01 00:07:10</td>\n",
       "      <td>pt</td>\n",
       "      <td>5.405797e+07</td>\n",
       "      <td>1.344712e+18</td>\n",
       "      <td>NaN</td>\n",
       "      <td>NaN</td>\n",
       "      <td>0.733</td>\n",
       "      <td>-1.0</td>\n",
       "      <td>ORG</td>\n",
       "      <td>...</td>\n",
       "      <td>NaN</td>\n",
       "      <td>NaN</td>\n",
       "      <td>NaN</td>\n",
       "      <td>NaN</td>\n",
       "      <td>['COVID', 'Sinal']</td>\n",
       "      <td>['IT', 'BR']</td>\n",
       "      <td>['Piemont', 'São Paulo']</td>\n",
       "      <td>['Cuneo', 'Região Metropolitana de São Paulo']</td>\n",
       "      <td>['UNK', 'São Paulo']</td>\n",
       "      <td>Em 2019, tivemos menos de 10 mil mortes por sí...</td>\n",
       "    </tr>\n",
       "    <tr>\n",
       "      <th>333009</th>\n",
       "      <td>1344797518165651457</td>\n",
       "      <td>2021-01-01 00:08:08</td>\n",
       "      <td>pt</td>\n",
       "      <td>8.664266e+17</td>\n",
       "      <td>1.344712e+18</td>\n",
       "      <td>NaN</td>\n",
       "      <td>NaN</td>\n",
       "      <td>0.733</td>\n",
       "      <td>-1.0</td>\n",
       "      <td>PER</td>\n",
       "      <td>...</td>\n",
       "      <td>NaN</td>\n",
       "      <td>NaN</td>\n",
       "      <td>NaN</td>\n",
       "      <td>NaN</td>\n",
       "      <td>['COVID', 'Sinal']</td>\n",
       "      <td>['IT', 'BR']</td>\n",
       "      <td>['Piemont', 'São Paulo']</td>\n",
       "      <td>['Cuneo', 'Região Metropolitana de São Paulo']</td>\n",
       "      <td>['UNK', 'São Paulo']</td>\n",
       "      <td>Em 2019, tivemos menos de 10 mil mortes por sí...</td>\n",
       "    </tr>\n",
       "    <tr>\n",
       "      <th>333067</th>\n",
       "      <td>1344799371934781440</td>\n",
       "      <td>2021-01-01 00:15:30</td>\n",
       "      <td>pt</td>\n",
       "      <td>3.866143e+07</td>\n",
       "      <td>1.344712e+18</td>\n",
       "      <td>NaN</td>\n",
       "      <td>NaN</td>\n",
       "      <td>0.733</td>\n",
       "      <td>-1.0</td>\n",
       "      <td>PER</td>\n",
       "      <td>...</td>\n",
       "      <td>NaN</td>\n",
       "      <td>NaN</td>\n",
       "      <td>NaN</td>\n",
       "      <td>NaN</td>\n",
       "      <td>['COVID', 'Sinal']</td>\n",
       "      <td>['IT', 'BR']</td>\n",
       "      <td>['Piemont', 'São Paulo']</td>\n",
       "      <td>['Cuneo', 'Região Metropolitana de São Paulo']</td>\n",
       "      <td>['UNK', 'São Paulo']</td>\n",
       "      <td>Em 2019, tivemos menos de 10 mil mortes por sí...</td>\n",
       "    </tr>\n",
       "    <tr>\n",
       "      <th>333071</th>\n",
       "      <td>1344799496581087232</td>\n",
       "      <td>2021-01-01 00:15:59</td>\n",
       "      <td>pt</td>\n",
       "      <td>7.055609e+17</td>\n",
       "      <td>NaN</td>\n",
       "      <td>NaN</td>\n",
       "      <td>NaN</td>\n",
       "      <td>0.918</td>\n",
       "      <td>-1.0</td>\n",
       "      <td>PER</td>\n",
       "      <td>...</td>\n",
       "      <td>NaN</td>\n",
       "      <td>NaN</td>\n",
       "      <td>NaN</td>\n",
       "      <td>NaN</td>\n",
       "      <td>['Bolsonaro', 'Covid']</td>\n",
       "      <td>['BR', 'IT']</td>\n",
       "      <td>['São Paulo', 'Piemont']</td>\n",
       "      <td>['UNK', 'Cuneo']</td>\n",
       "      <td>['UNK', 'UNK']</td>\n",
       "      <td>Bolsonaro fala tanto sobre \"precaução\" e \"caut...</td>\n",
       "    </tr>\n",
       "    <tr>\n",
       "      <th>...</th>\n",
       "      <td>...</td>\n",
       "      <td>...</td>\n",
       "      <td>...</td>\n",
       "      <td>...</td>\n",
       "      <td>...</td>\n",
       "      <td>...</td>\n",
       "      <td>...</td>\n",
       "      <td>...</td>\n",
       "      <td>...</td>\n",
       "      <td>...</td>\n",
       "      <td>...</td>\n",
       "      <td>...</td>\n",
       "      <td>...</td>\n",
       "      <td>...</td>\n",
       "      <td>...</td>\n",
       "      <td>...</td>\n",
       "      <td>...</td>\n",
       "      <td>...</td>\n",
       "      <td>...</td>\n",
       "      <td>...</td>\n",
       "      <td>...</td>\n",
       "    </tr>\n",
       "    <tr>\n",
       "      <th>2233675</th>\n",
       "      <td>1377409431646789633</td>\n",
       "      <td>2021-03-31 23:56:14</td>\n",
       "      <td>pt</td>\n",
       "      <td>1.321576e+18</td>\n",
       "      <td>1.377408e+18</td>\n",
       "      <td>NaN</td>\n",
       "      <td>NaN</td>\n",
       "      <td>0.494</td>\n",
       "      <td>0.0</td>\n",
       "      <td>PER</td>\n",
       "      <td>...</td>\n",
       "      <td>['BR']</td>\n",
       "      <td>['UNK']</td>\n",
       "      <td>['UNK']</td>\n",
       "      <td>['UNK']</td>\n",
       "      <td>['Bolsonaro', 'Covid', 'Governo']</td>\n",
       "      <td>['BR', 'IT', 'IT']</td>\n",
       "      <td>['São Paulo', 'Piemont', 'Piemont']</td>\n",
       "      <td>['UNK', 'Cuneo', 'Cuneo']</td>\n",
       "      <td>['UNK', 'UNK', 'UNK']</td>\n",
       "      <td>*Bolsonaro: \"valor do auxílio emergencial é 'p...</td>\n",
       "    </tr>\n",
       "    <tr>\n",
       "      <th>2233691</th>\n",
       "      <td>1377409534893850627</td>\n",
       "      <td>2021-03-31 23:56:38</td>\n",
       "      <td>pt</td>\n",
       "      <td>8.939552e+17</td>\n",
       "      <td>1.377286e+18</td>\n",
       "      <td>NaN</td>\n",
       "      <td>NaN</td>\n",
       "      <td>0.856</td>\n",
       "      <td>-1.0</td>\n",
       "      <td>ORG</td>\n",
       "      <td>...</td>\n",
       "      <td>NaN</td>\n",
       "      <td>NaN</td>\n",
       "      <td>NaN</td>\n",
       "      <td>NaN</td>\n",
       "      <td>['Bolsonaro']</td>\n",
       "      <td>['BR']</td>\n",
       "      <td>['São Paulo']</td>\n",
       "      <td>['UNK']</td>\n",
       "      <td>['UNK']</td>\n",
       "      <td>Bolsonaro diz: se pegar COVID procure um médic...</td>\n",
       "    </tr>\n",
       "    <tr>\n",
       "      <th>2233744</th>\n",
       "      <td>1377409891829129216</td>\n",
       "      <td>2021-03-31 23:58:03</td>\n",
       "      <td>pt</td>\n",
       "      <td>2.411760e+08</td>\n",
       "      <td>1.377318e+18</td>\n",
       "      <td>NaN</td>\n",
       "      <td>NaN</td>\n",
       "      <td>0.873</td>\n",
       "      <td>-1.0</td>\n",
       "      <td>PER</td>\n",
       "      <td>...</td>\n",
       "      <td>NaN</td>\n",
       "      <td>NaN</td>\n",
       "      <td>NaN</td>\n",
       "      <td>NaN</td>\n",
       "      <td>['Araraquara', 'CEFORSUS SP', 'Secretaria']</td>\n",
       "      <td>['BR', 'BR', 'BR']</td>\n",
       "      <td>['São Paulo', 'São Paulo', 'Pará']</td>\n",
       "      <td>['UNK', 'UNK', 'UNK']</td>\n",
       "      <td>['Araraquara', 'Araraquara', 'Santarém']</td>\n",
       "      <td>O Prefeito petista de Araraquara impôs lockdow...</td>\n",
       "    </tr>\n",
       "    <tr>\n",
       "      <th>2233759</th>\n",
       "      <td>1377410045672050691</td>\n",
       "      <td>2021-03-31 23:58:40</td>\n",
       "      <td>pt</td>\n",
       "      <td>2.340247e+09</td>\n",
       "      <td>1.377318e+18</td>\n",
       "      <td>NaN</td>\n",
       "      <td>NaN</td>\n",
       "      <td>0.873</td>\n",
       "      <td>-1.0</td>\n",
       "      <td>PER</td>\n",
       "      <td>...</td>\n",
       "      <td>['BR']</td>\n",
       "      <td>['Pernambuco']</td>\n",
       "      <td>['UNK']</td>\n",
       "      <td>['UNK']</td>\n",
       "      <td>['Araraquara', 'CEFORSUS SP', 'Secretaria']</td>\n",
       "      <td>['BR', 'BR', 'BR']</td>\n",
       "      <td>['São Paulo', 'São Paulo', 'Pará']</td>\n",
       "      <td>['UNK', 'UNK', 'UNK']</td>\n",
       "      <td>['Araraquara', 'Araraquara', 'Santarém']</td>\n",
       "      <td>O Prefeito petista de Araraquara impôs lockdow...</td>\n",
       "    </tr>\n",
       "    <tr>\n",
       "      <th>2233771</th>\n",
       "      <td>1377410172914528256</td>\n",
       "      <td>2021-03-31 23:59:10</td>\n",
       "      <td>pt</td>\n",
       "      <td>1.704341e+08</td>\n",
       "      <td>1.377318e+18</td>\n",
       "      <td>NaN</td>\n",
       "      <td>NaN</td>\n",
       "      <td>0.873</td>\n",
       "      <td>-1.0</td>\n",
       "      <td>PER</td>\n",
       "      <td>...</td>\n",
       "      <td>NaN</td>\n",
       "      <td>NaN</td>\n",
       "      <td>NaN</td>\n",
       "      <td>NaN</td>\n",
       "      <td>['Araraquara', 'CEFORSUS SP', 'Secretaria']</td>\n",
       "      <td>['BR', 'BR', 'BR']</td>\n",
       "      <td>['São Paulo', 'São Paulo', 'Pará']</td>\n",
       "      <td>['UNK', 'UNK', 'UNK']</td>\n",
       "      <td>['Araraquara', 'Araraquara', 'Santarém']</td>\n",
       "      <td>O Prefeito petista de Araraquara impôs lockdow...</td>\n",
       "    </tr>\n",
       "  </tbody>\n",
       "</table>\n",
       "<p>137551 rows × 38 columns</p>\n",
       "</div>"
      ],
      "text/plain": [
       "                    tweet_id            date_time lang       user_id  \\\n",
       "332999   1344797202913357826  2021-01-01 00:06:52   pt  2.540066e+07   \n",
       "333001   1344797278050136065  2021-01-01 00:07:10   pt  5.405797e+07   \n",
       "333009   1344797518165651457  2021-01-01 00:08:08   pt  8.664266e+17   \n",
       "333067   1344799371934781440  2021-01-01 00:15:30   pt  3.866143e+07   \n",
       "333071   1344799496581087232  2021-01-01 00:15:59   pt  7.055609e+17   \n",
       "...                      ...                  ...  ...           ...   \n",
       "2233675  1377409431646789633  2021-03-31 23:56:14   pt  1.321576e+18   \n",
       "2233691  1377409534893850627  2021-03-31 23:56:38   pt  8.939552e+17   \n",
       "2233744  1377409891829129216  2021-03-31 23:58:03   pt  2.411760e+08   \n",
       "2233759  1377410045672050691  2021-03-31 23:58:40   pt  2.340247e+09   \n",
       "2233771  1377410172914528256  2021-03-31 23:59:10   pt  1.704341e+08   \n",
       "\n",
       "         retweeted_id  quoted_id  in_reply_to_id  sentiment_conf  \\\n",
       "332999   1.344712e+18        NaN             NaN           0.733   \n",
       "333001   1.344712e+18        NaN             NaN           0.733   \n",
       "333009   1.344712e+18        NaN             NaN           0.733   \n",
       "333067   1.344712e+18        NaN             NaN           0.733   \n",
       "333071            NaN        NaN             NaN           0.918   \n",
       "...               ...        ...             ...             ...   \n",
       "2233675  1.377408e+18        NaN             NaN           0.494   \n",
       "2233691  1.377286e+18        NaN             NaN           0.856   \n",
       "2233744  1.377318e+18        NaN             NaN           0.873   \n",
       "2233759  1.377318e+18        NaN             NaN           0.873   \n",
       "2233771  1.377318e+18        NaN             NaN           0.873   \n",
       "\n",
       "         sentiment_label user_type  ... user_profile_description_country_code  \\\n",
       "332999              -1.0       PER  ...                                   NaN   \n",
       "333001              -1.0       ORG  ...                                   NaN   \n",
       "333009              -1.0       PER  ...                                   NaN   \n",
       "333067              -1.0       PER  ...                                   NaN   \n",
       "333071              -1.0       PER  ...                                   NaN   \n",
       "...                  ...       ...  ...                                   ...   \n",
       "2233675              0.0       PER  ...                                ['BR']   \n",
       "2233691             -1.0       ORG  ...                                   NaN   \n",
       "2233744             -1.0       PER  ...                                   NaN   \n",
       "2233759             -1.0       PER  ...                                ['BR']   \n",
       "2233771             -1.0       PER  ...                                   NaN   \n",
       "\n",
       "        user_profile_description_state user_profile_description_county  \\\n",
       "332999                             NaN                             NaN   \n",
       "333001                             NaN                             NaN   \n",
       "333009                             NaN                             NaN   \n",
       "333067                             NaN                             NaN   \n",
       "333071                             NaN                             NaN   \n",
       "...                                ...                             ...   \n",
       "2233675                        ['UNK']                         ['UNK']   \n",
       "2233691                            NaN                             NaN   \n",
       "2233744                            NaN                             NaN   \n",
       "2233759                 ['Pernambuco']                         ['UNK']   \n",
       "2233771                            NaN                             NaN   \n",
       "\n",
       "        user_profile_description_city  \\\n",
       "332999                            NaN   \n",
       "333001                            NaN   \n",
       "333009                            NaN   \n",
       "333067                            NaN   \n",
       "333071                            NaN   \n",
       "...                               ...   \n",
       "2233675                       ['UNK']   \n",
       "2233691                           NaN   \n",
       "2233744                           NaN   \n",
       "2233759                       ['UNK']   \n",
       "2233771                           NaN   \n",
       "\n",
       "                                 tweet_text_toponyms tweet_text_country_code  \\\n",
       "332999                            ['COVID', 'Sinal']            ['IT', 'BR']   \n",
       "333001                            ['COVID', 'Sinal']            ['IT', 'BR']   \n",
       "333009                            ['COVID', 'Sinal']            ['IT', 'BR']   \n",
       "333067                            ['COVID', 'Sinal']            ['IT', 'BR']   \n",
       "333071                        ['Bolsonaro', 'Covid']            ['BR', 'IT']   \n",
       "...                                              ...                     ...   \n",
       "2233675            ['Bolsonaro', 'Covid', 'Governo']      ['BR', 'IT', 'IT']   \n",
       "2233691                                ['Bolsonaro']                  ['BR']   \n",
       "2233744  ['Araraquara', 'CEFORSUS SP', 'Secretaria']      ['BR', 'BR', 'BR']   \n",
       "2233759  ['Araraquara', 'CEFORSUS SP', 'Secretaria']      ['BR', 'BR', 'BR']   \n",
       "2233771  ['Araraquara', 'CEFORSUS SP', 'Secretaria']      ['BR', 'BR', 'BR']   \n",
       "\n",
       "                            tweet_text_state  \\\n",
       "332999              ['Piemont', 'São Paulo']   \n",
       "333001              ['Piemont', 'São Paulo']   \n",
       "333009              ['Piemont', 'São Paulo']   \n",
       "333067              ['Piemont', 'São Paulo']   \n",
       "333071              ['São Paulo', 'Piemont']   \n",
       "...                                      ...   \n",
       "2233675  ['São Paulo', 'Piemont', 'Piemont']   \n",
       "2233691                        ['São Paulo']   \n",
       "2233744   ['São Paulo', 'São Paulo', 'Pará']   \n",
       "2233759   ['São Paulo', 'São Paulo', 'Pará']   \n",
       "2233771   ['São Paulo', 'São Paulo', 'Pará']   \n",
       "\n",
       "                                      tweet_text_county  \\\n",
       "332999   ['Cuneo', 'Região Metropolitana de São Paulo']   \n",
       "333001   ['Cuneo', 'Região Metropolitana de São Paulo']   \n",
       "333009   ['Cuneo', 'Região Metropolitana de São Paulo']   \n",
       "333067   ['Cuneo', 'Região Metropolitana de São Paulo']   \n",
       "333071                                 ['UNK', 'Cuneo']   \n",
       "...                                                 ...   \n",
       "2233675                       ['UNK', 'Cuneo', 'Cuneo']   \n",
       "2233691                                         ['UNK']   \n",
       "2233744                           ['UNK', 'UNK', 'UNK']   \n",
       "2233759                           ['UNK', 'UNK', 'UNK']   \n",
       "2233771                           ['UNK', 'UNK', 'UNK']   \n",
       "\n",
       "                                  tweet_text_city  \\\n",
       "332999                       ['UNK', 'São Paulo']   \n",
       "333001                       ['UNK', 'São Paulo']   \n",
       "333009                       ['UNK', 'São Paulo']   \n",
       "333067                       ['UNK', 'São Paulo']   \n",
       "333071                             ['UNK', 'UNK']   \n",
       "...                                           ...   \n",
       "2233675                     ['UNK', 'UNK', 'UNK']   \n",
       "2233691                                   ['UNK']   \n",
       "2233744  ['Araraquara', 'Araraquara', 'Santarém']   \n",
       "2233759  ['Araraquara', 'Araraquara', 'Santarém']   \n",
       "2233771  ['Araraquara', 'Araraquara', 'Santarém']   \n",
       "\n",
       "                                                      text  \n",
       "332999   Em 2019, tivemos menos de 10 mil mortes por sí...  \n",
       "333001   Em 2019, tivemos menos de 10 mil mortes por sí...  \n",
       "333009   Em 2019, tivemos menos de 10 mil mortes por sí...  \n",
       "333067   Em 2019, tivemos menos de 10 mil mortes por sí...  \n",
       "333071   Bolsonaro fala tanto sobre \"precaução\" e \"caut...  \n",
       "...                                                    ...  \n",
       "2233675  *Bolsonaro: \"valor do auxílio emergencial é 'p...  \n",
       "2233691  Bolsonaro diz: se pegar COVID procure um médic...  \n",
       "2233744  O Prefeito petista de Araraquara impôs lockdow...  \n",
       "2233759  O Prefeito petista de Araraquara impôs lockdow...  \n",
       "2233771  O Prefeito petista de Araraquara impôs lockdow...  \n",
       "\n",
       "[137551 rows x 38 columns]"
      ]
     },
     "execution_count": 203,
     "metadata": {},
     "output_type": "execute_result"
    }
   ],
   "source": [
    "topic_relevancy_filtered"
   ]
  },
  {
   "cell_type": "code",
   "execution_count": 206,
   "id": "dfd1ccf5-73aa-4412-a218-ec04a1db713a",
   "metadata": {},
   "outputs": [],
   "source": [
    "by_date = topic_relevancy_filtered['date_time'].apply(lambda row: row[:10])"
   ]
  },
  {
   "cell_type": "code",
   "execution_count": 209,
   "id": "a7e173ea-1e2b-4aa8-acb3-0fd46d9efaca",
   "metadata": {},
   "outputs": [
    {
     "data": {
      "text/plain": [
       "2021-01-01     296\n",
       "2021-01-02     326\n",
       "2021-01-03     426\n",
       "2021-01-04     590\n",
       "2021-01-05     512\n",
       "              ... \n",
       "2021-03-27    3613\n",
       "2021-03-28    2261\n",
       "2021-03-29    1647\n",
       "2021-03-30     846\n",
       "2021-03-31    1461\n",
       "Name: date_time, Length: 90, dtype: int64"
      ]
     },
     "execution_count": 209,
     "metadata": {},
     "output_type": "execute_result"
    }
   ],
   "source": [
    "# get time series of amount of tweet with sufficiently close topic vector per day\n",
    "by_date.value_counts(sort=False)"
   ]
  },
  {
   "cell_type": "code",
   "execution_count": 214,
   "id": "40c6ad46-9bf2-4723-935c-ab0f6ad645ba",
   "metadata": {},
   "outputs": [],
   "source": [
    "topic_tweet_per_day = by_date.value_counts(sort=False).to_numpy()"
   ]
  },
  {
   "cell_type": "markdown",
   "id": "9f32dde8-30a3-4b8a-b421-a7442865bb5b",
   "metadata": {
    "jp-MarkdownHeadingCollapsed": true,
    "tags": []
   },
   "source": [
    "#### time series of bed usage dataset"
   ]
  },
  {
   "cell_type": "code",
   "execution_count": 222,
   "id": "29f322bb-193c-4a1b-a321-341506f8865c",
   "metadata": {},
   "outputs": [],
   "source": [
    "# get the bed time series\n",
    "df_bed_usage = pd.read_csv('brazil_beds.csv')\n",
    "\n",
    "df_bed_usage_sp = df_bed_usage.loc[(df_bed_usage['location_name'] == 'São Paulo') & df_bed_usage['date'].apply(lambda x: x[-4:] == '2021')]"
   ]
  },
  {
   "cell_type": "code",
   "execution_count": 223,
   "id": "4103ed02-25db-440a-be06-31cabaf2431b",
   "metadata": {},
   "outputs": [
    {
     "data": {
      "text/html": [
       "<div>\n",
       "<style scoped>\n",
       "    .dataframe tbody tr th:only-of-type {\n",
       "        vertical-align: middle;\n",
       "    }\n",
       "\n",
       "    .dataframe tbody tr th {\n",
       "        vertical-align: top;\n",
       "    }\n",
       "\n",
       "    .dataframe thead th {\n",
       "        text-align: right;\n",
       "    }\n",
       "</style>\n",
       "<table border=\"1\" class=\"dataframe\">\n",
       "  <thead>\n",
       "    <tr style=\"text-align: right;\">\n",
       "      <th></th>\n",
       "      <th>location_id</th>\n",
       "      <th>date</th>\n",
       "      <th>version_name</th>\n",
       "      <th>location_name</th>\n",
       "      <th>hospital_beds_mean</th>\n",
       "      <th>icu_beds_mean</th>\n",
       "      <th>all_bed_capacity</th>\n",
       "      <th>icu_bed_capacity</th>\n",
       "      <th>prop_hospital_beds</th>\n",
       "      <th>prop_icu_beds</th>\n",
       "    </tr>\n",
       "  </thead>\n",
       "  <tbody>\n",
       "    <tr>\n",
       "      <th>862</th>\n",
       "      <td>4775</td>\n",
       "      <td>01-01-2021</td>\n",
       "      <td>reference</td>\n",
       "      <td>São Paulo</td>\n",
       "      <td>7594.54</td>\n",
       "      <td>4757.16</td>\n",
       "      <td>84259</td>\n",
       "      <td>7859</td>\n",
       "      <td>0.090133</td>\n",
       "      <td>0.605314</td>\n",
       "    </tr>\n",
       "    <tr>\n",
       "      <th>889</th>\n",
       "      <td>4775</td>\n",
       "      <td>02-01-2021</td>\n",
       "      <td>reference</td>\n",
       "      <td>São Paulo</td>\n",
       "      <td>7619.41</td>\n",
       "      <td>4713.84</td>\n",
       "      <td>84259</td>\n",
       "      <td>7859</td>\n",
       "      <td>0.090428</td>\n",
       "      <td>0.599802</td>\n",
       "    </tr>\n",
       "    <tr>\n",
       "      <th>916</th>\n",
       "      <td>4775</td>\n",
       "      <td>03-01-2021</td>\n",
       "      <td>reference</td>\n",
       "      <td>São Paulo</td>\n",
       "      <td>7663.97</td>\n",
       "      <td>4694.94</td>\n",
       "      <td>84259</td>\n",
       "      <td>7859</td>\n",
       "      <td>0.090957</td>\n",
       "      <td>0.597397</td>\n",
       "    </tr>\n",
       "    <tr>\n",
       "      <th>943</th>\n",
       "      <td>4775</td>\n",
       "      <td>04-01-2021</td>\n",
       "      <td>reference</td>\n",
       "      <td>São Paulo</td>\n",
       "      <td>7792.74</td>\n",
       "      <td>4724.74</td>\n",
       "      <td>84259</td>\n",
       "      <td>7859</td>\n",
       "      <td>0.092486</td>\n",
       "      <td>0.601188</td>\n",
       "    </tr>\n",
       "    <tr>\n",
       "      <th>970</th>\n",
       "      <td>4775</td>\n",
       "      <td>05-01-2021</td>\n",
       "      <td>reference</td>\n",
       "      <td>São Paulo</td>\n",
       "      <td>8009.80</td>\n",
       "      <td>4817.56</td>\n",
       "      <td>84259</td>\n",
       "      <td>7859</td>\n",
       "      <td>0.095062</td>\n",
       "      <td>0.612999</td>\n",
       "    </tr>\n",
       "    <tr>\n",
       "      <th>...</th>\n",
       "      <td>...</td>\n",
       "      <td>...</td>\n",
       "      <td>...</td>\n",
       "      <td>...</td>\n",
       "      <td>...</td>\n",
       "      <td>...</td>\n",
       "      <td>...</td>\n",
       "      <td>...</td>\n",
       "      <td>...</td>\n",
       "      <td>...</td>\n",
       "    </tr>\n",
       "    <tr>\n",
       "      <th>3157</th>\n",
       "      <td>4775</td>\n",
       "      <td>27-03-2021</td>\n",
       "      <td>reference</td>\n",
       "      <td>São Paulo</td>\n",
       "      <td>21190.58</td>\n",
       "      <td>10794.57</td>\n",
       "      <td>84259</td>\n",
       "      <td>7859</td>\n",
       "      <td>0.251493</td>\n",
       "      <td>1.373530</td>\n",
       "    </tr>\n",
       "    <tr>\n",
       "      <th>3184</th>\n",
       "      <td>4775</td>\n",
       "      <td>28-03-2021</td>\n",
       "      <td>reference</td>\n",
       "      <td>São Paulo</td>\n",
       "      <td>20993.61</td>\n",
       "      <td>10752.33</td>\n",
       "      <td>84259</td>\n",
       "      <td>7859</td>\n",
       "      <td>0.249156</td>\n",
       "      <td>1.368155</td>\n",
       "    </tr>\n",
       "    <tr>\n",
       "      <th>3211</th>\n",
       "      <td>4775</td>\n",
       "      <td>29-03-2021</td>\n",
       "      <td>reference</td>\n",
       "      <td>São Paulo</td>\n",
       "      <td>20659.02</td>\n",
       "      <td>10625.04</td>\n",
       "      <td>84259</td>\n",
       "      <td>7859</td>\n",
       "      <td>0.245185</td>\n",
       "      <td>1.351958</td>\n",
       "    </tr>\n",
       "    <tr>\n",
       "      <th>3238</th>\n",
       "      <td>4775</td>\n",
       "      <td>30-03-2021</td>\n",
       "      <td>reference</td>\n",
       "      <td>São Paulo</td>\n",
       "      <td>20299.71</td>\n",
       "      <td>10529.04</td>\n",
       "      <td>84259</td>\n",
       "      <td>7859</td>\n",
       "      <td>0.240920</td>\n",
       "      <td>1.339743</td>\n",
       "    </tr>\n",
       "    <tr>\n",
       "      <th>3265</th>\n",
       "      <td>4775</td>\n",
       "      <td>31-03-2021</td>\n",
       "      <td>reference</td>\n",
       "      <td>São Paulo</td>\n",
       "      <td>19903.99</td>\n",
       "      <td>10484.99</td>\n",
       "      <td>84259</td>\n",
       "      <td>7859</td>\n",
       "      <td>0.236224</td>\n",
       "      <td>1.334138</td>\n",
       "    </tr>\n",
       "  </tbody>\n",
       "</table>\n",
       "<p>90 rows × 10 columns</p>\n",
       "</div>"
      ],
      "text/plain": [
       "      location_id        date version_name location_name  hospital_beds_mean  \\\n",
       "862          4775  01-01-2021    reference     São Paulo             7594.54   \n",
       "889          4775  02-01-2021    reference     São Paulo             7619.41   \n",
       "916          4775  03-01-2021    reference     São Paulo             7663.97   \n",
       "943          4775  04-01-2021    reference     São Paulo             7792.74   \n",
       "970          4775  05-01-2021    reference     São Paulo             8009.80   \n",
       "...           ...         ...          ...           ...                 ...   \n",
       "3157         4775  27-03-2021    reference     São Paulo            21190.58   \n",
       "3184         4775  28-03-2021    reference     São Paulo            20993.61   \n",
       "3211         4775  29-03-2021    reference     São Paulo            20659.02   \n",
       "3238         4775  30-03-2021    reference     São Paulo            20299.71   \n",
       "3265         4775  31-03-2021    reference     São Paulo            19903.99   \n",
       "\n",
       "      icu_beds_mean  all_bed_capacity  icu_bed_capacity  prop_hospital_beds  \\\n",
       "862         4757.16             84259              7859            0.090133   \n",
       "889         4713.84             84259              7859            0.090428   \n",
       "916         4694.94             84259              7859            0.090957   \n",
       "943         4724.74             84259              7859            0.092486   \n",
       "970         4817.56             84259              7859            0.095062   \n",
       "...             ...               ...               ...                 ...   \n",
       "3157       10794.57             84259              7859            0.251493   \n",
       "3184       10752.33             84259              7859            0.249156   \n",
       "3211       10625.04             84259              7859            0.245185   \n",
       "3238       10529.04             84259              7859            0.240920   \n",
       "3265       10484.99             84259              7859            0.236224   \n",
       "\n",
       "      prop_icu_beds  \n",
       "862        0.605314  \n",
       "889        0.599802  \n",
       "916        0.597397  \n",
       "943        0.601188  \n",
       "970        0.612999  \n",
       "...             ...  \n",
       "3157       1.373530  \n",
       "3184       1.368155  \n",
       "3211       1.351958  \n",
       "3238       1.339743  \n",
       "3265       1.334138  \n",
       "\n",
       "[90 rows x 10 columns]"
      ]
     },
     "execution_count": 223,
     "metadata": {},
     "output_type": "execute_result"
    }
   ],
   "source": [
    "df_bed_usage_sp"
   ]
  },
  {
   "cell_type": "code",
   "execution_count": 224,
   "id": "6644205a-5bd0-4927-9b0a-396cfda1014b",
   "metadata": {},
   "outputs": [],
   "source": [
    "df_bed_usage_sp_icu = df_bed_usage_sp['icu_beds_mean'].to_numpy()\n",
    "df_bed_usage_sp_hospital = df_bed_usage_sp['hospital_beds_mean'].to_numpy()"
   ]
  },
  {
   "cell_type": "code",
   "execution_count": 213,
   "id": "7b89fac9-1aec-4556-9e97-9aac7382c021",
   "metadata": {},
   "outputs": [],
   "source": [
    "import matplotlib.pyplot as plt"
   ]
  },
  {
   "cell_type": "code",
   "execution_count": 234,
   "id": "14118026-db79-44e6-a894-8da259340797",
   "metadata": {},
   "outputs": [
    {
     "data": {
      "image/png": "[encoded data removed]",
      "text/plain": [
       "<Figure size 640x480 with 1 Axes>"
      ]
     },
     "metadata": {},
     "output_type": "display_data"
    }
   ],
   "source": [
    "plt.plot(topic_tweet_per_day, label='number of relevant tweets\\ntopic=\\'ICU beds shortage\\'\\ncos_sim >= 0.2')\n",
    "plt.plot(df_bed_usage_sp_icu, label='ICU bed usage')\n",
    "#plt.plot(df_bed_usage_sp_hospital, label='regular bed usage')\n",
    "\n",
    "plt.legend()\n",
    "plt.show()"
   ]
  },
  {
   "cell_type": "code",
   "execution_count": null,
   "id": "4176e82c-d855-4d47-ad1d-262f13ce4105",
   "metadata": {},
   "outputs": [],
   "source": []
  },
  {
   "cell_type": "markdown",
   "id": "fa7beab9-2758-4e28-83d8-78d984727bc0",
   "metadata": {},
   "source": [
    "### run CCM causality modeling"
   ]
  },
  {
   "cell_type": "code",
   "execution_count": 235,
   "id": "209d1f6c-23da-4056-9df9-2b96ab252ba7",
   "metadata": {},
   "outputs": [],
   "source": [
    "from causal_ccm.causal_ccm import ccm"
   ]
  },
  {
   "cell_type": "code",
   "execution_count": 238,
   "id": "79711115-7d7f-4307-8936-45646e5d6e35",
   "metadata": {},
   "outputs": [],
   "source": [
    "X = topic_tweet_per_day\n",
    "Y = df_bed_usage_sp_icu\n",
    "\n",
    "assert X.shape == Y.shape\n",
    "assert np.count_nonzero(~np.isnan(X)) == np.count_nonzero(~np.isnan(Y))\n",
    "assert np.count_nonzero(~np.isnan(X)) == X.shape[0]"
   ]
  },
  {
   "cell_type": "code",
   "execution_count": 239,
   "id": "0fa07a97-e5d0-44d5-9380-5b044adc4a68",
   "metadata": {},
   "outputs": [],
   "source": [
    "# inputs\n",
    "tau = 1 # time lag\n",
    "E = 2 # shadow manifold embedding dimensions\n",
    "L = len(X) # length of time period to consider\n",
    "\n",
    "# if we wish to check if X causes Y\n",
    "ccm1 = ccm(X, Y, tau, E, L)"
   ]
  },
  {
   "cell_type": "code",
   "execution_count": 240,
   "id": "4ed1faa4-dc18-4b24-81e5-32daf4e5745f",
   "metadata": {},
   "outputs": [
    {
     "data": {
      "image/png": "[encoded data removed]",
      "text/plain": [
       "<Figure size 1200x600 with 2 Axes>"
      ]
     },
     "metadata": {},
     "output_type": "display_data"
    }
   ],
   "source": [
    "# visualize sample cross mapping\n",
    "ccm1.visualize_cross_mapping()"
   ]
  },
  {
   "cell_type": "code",
   "execution_count": 241,
   "id": "0659b85b-1f92-420b-bcac-67c1c6c8dfca",
   "metadata": {},
   "outputs": [
    {
     "data": {
      "text/plain": [
       "(0.7602426180203741, 5.61012157812474e-18)"
      ]
     },
     "execution_count": 241,
     "metadata": {},
     "output_type": "execute_result"
    }
   ],
   "source": [
    "# causality X -> Y\n",
    "# returns: (correlation (\"strength\" of causality), p-value(significance))\n",
    "corr_, p = ccm1.causality()\n",
    "corr_, p"
   ]
  },
  {
   "cell_type": "code",
   "execution_count": null,
   "id": "55dd7acd-bb3a-44bf-a49d-85ca4fe343e4",
   "metadata": {},
   "outputs": [],
   "source": []
  },
  {
   "cell_type": "markdown",
   "id": "0606a5cb-4df8-48a1-87e4-2cc9d22305f4",
   "metadata": {},
   "source": [
    "#### all tweets"
   ]
  },
  {
   "cell_type": "code",
   "execution_count": 260,
   "id": "948ba0e6-bb93-432c-a020-5bd93b4bd829",
   "metadata": {},
   "outputs": [],
   "source": [
    "by_date_all = df_saopaulo_2021_jan['date_time'].apply(lambda row: row[:10])\n",
    "\n",
    "# get time series of amount of tweet with sufficiently close topic vector per day\n",
    "topic_tweet_per_day_all = by_date_all.value_counts(sort=False).to_numpy()"
   ]
  },
  {
   "cell_type": "code",
   "execution_count": 261,
   "id": "90c7b92c-d5e9-4189-b45c-027e7d7cc0c1",
   "metadata": {},
   "outputs": [],
   "source": [
    "X = topic_tweet_per_day_all\n",
    "Y = df_bed_usage_sp_icu\n",
    "\n",
    "assert X.shape == Y.shape\n",
    "assert np.count_nonzero(~np.isnan(X)) == np.count_nonzero(~np.isnan(Y))\n",
    "assert np.count_nonzero(~np.isnan(X)) == X.shape[0]"
   ]
  },
  {
   "cell_type": "code",
   "execution_count": 262,
   "id": "c267af26-80bc-49b0-ad13-fa3671d64532",
   "metadata": {},
   "outputs": [],
   "source": [
    "# inputs\n",
    "tau = 1 # time lag\n",
    "E = 2 # shadow manifold embedding dimensions\n",
    "L = len(X) # length of time period to consider\n",
    "\n",
    "# if we wish to check if X causes Y\n",
    "ccm2 = ccm(X, Y, tau, E, L)"
   ]
  },
  {
   "cell_type": "code",
   "execution_count": 263,
   "id": "14dc0896-a00f-4e0f-9b26-247d12dd53e1",
   "metadata": {},
   "outputs": [
    {
     "data": {
      "image/png": "[encoded data removed]",
      "text/plain": [
       "<Figure size 1200x600 with 2 Axes>"
      ]
     },
     "metadata": {},
     "output_type": "display_data"
    }
   ],
   "source": [
    "# visualize sample cross mapping\n",
    "ccm2.visualize_cross_mapping()"
   ]
  },
  {
   "cell_type": "code",
   "execution_count": 264,
   "id": "d6692e31-3d3c-43da-89df-5f800063422e",
   "metadata": {},
   "outputs": [
    {
     "data": {
      "text/plain": [
       "(0.7423780303156364, 8.392043733508928e-17)"
      ]
     },
     "execution_count": 264,
     "metadata": {},
     "output_type": "execute_result"
    }
   ],
   "source": [
    "# causality X -> Y\n",
    "# returns: (correlation (\"strength\" of causality), p-value(significance))\n",
    "corr_, p = ccm2.causality()\n",
    "corr_, p"
   ]
  },
  {
   "cell_type": "code",
   "execution_count": 265,
   "id": "5df5d98e-7c0e-45c5-a4da-3a4be2dd0ad7",
   "metadata": {},
   "outputs": [
    {
     "name": "stdout",
     "output_type": "stream",
     "text": [
      "X->Y r 0.73 p value 0.0\n",
      "Y->X r 0.63 p value 0.0\n"
     ]
    },
    {
     "data": {
      "text/plain": [
       "<matplotlib.legend.Legend at 0x1cfaf32e320>"
      ]
     },
     "execution_count": 265,
     "metadata": {},
     "output_type": "execute_result"
    },
    {
     "data": {
      "image/png": "[encoded data removed]",
      "text/plain": [
       "<Figure size 500x500 with 1 Axes>"
      ]
     },
     "metadata": {},
     "output_type": "display_data"
    }
   ],
   "source": [
    "# checking convergence\n",
    "# Looking at \"convergence\"\n",
    "L_range = range(40, len(X), 1) # L values to test\n",
    "tau = 1\n",
    "E = 2\n",
    "\n",
    "Xhat_My, Yhat_Mx = [], [] # correlation list\n",
    "for L in L_range: \n",
    "    ccm_XY = ccm(X, Y, tau, E, L) # define new ccm object # Testing for X -> Y\n",
    "    ccm_YX = ccm(Y, X, tau, E, L) # define new ccm object # Testing for Y -> X    \n",
    "    Xhat_My.append(ccm_XY.causality()[0]) \n",
    "    Yhat_Mx.append(ccm_YX.causality()[0]) \n",
    "    \n",
    "print('X->Y r', np.round(Xhat_My[-1], 2), 'p value', np.round(ccm_XY.causality()[1], 4))\n",
    "print('Y->X r', np.round(Yhat_Mx[-1], 2), 'p value', np.round(ccm_YX.causality()[1], 4))    \n",
    "    \n",
    "# plot convergence as L->inf. Convergence is necessary to conclude causality\n",
    "plt.figure(figsize=(5,5))\n",
    "plt.plot(L_range, Xhat_My, label='$\\hat{X}(t)|M_y$')\n",
    "plt.plot(L_range, Yhat_Mx, label='$\\hat{Y}(t)|M_x$')\n",
    "plt.xlabel('L', size=12)\n",
    "plt.ylabel('correl', size=12)\n",
    "plt.legend(prop={'size': 12})"
   ]
  },
  {
   "cell_type": "code",
   "execution_count": null,
   "id": "8c19b8bf-0215-4143-ba90-dcb7cc727cf5",
   "metadata": {},
   "outputs": [],
   "source": []
  },
  {
   "cell_type": "code",
   "execution_count": 257,
   "id": "db7ccb2f-a85e-41e8-8ce0-52faf925f6cf",
   "metadata": {},
   "outputs": [],
   "source": [
    "thresholds_list = [i * 0.05 for i in range(10)]"
   ]
  },
  {
   "cell_type": "code",
   "execution_count": 259,
   "id": "fadd410a-dada-4cc1-b3e8-a954bb25c165",
   "metadata": {},
   "outputs": [
    {
     "name": "stdout",
     "output_type": "stream",
     "text": [
      "threshold: 0.00 corr = 0.743295458304874 p = 7.343455610079989e-17\n",
      "threshold: 0.05 corr = 0.7373633995112873 p = 1.7236263860658006e-16\n",
      "threshold: 0.10 corr = 0.7389472867809612 p = 1.3755836858692525e-16\n",
      "threshold: 0.15 corr = 0.7261900017599452 p = 8.091140877885333e-16\n",
      "threshold: 0.20 corr = 0.7602426180203741 p = 5.61012157812474e-18\n",
      "threshold: 0.25 corr = 0.7310350662800509 p = 4.1774032275888083e-16\n",
      "threshold: 0.30 corr = 0.6352846267075541 p = 2.276862709492232e-11\n",
      "threshold: 0.35 corr = 0.5115318930064545 p = 3.007808289805871e-07\n",
      "threshold: 0.40 corr = 0.43682514384272364 p = 1.8705538100516783e-05\n"
     ]
    }
   ],
   "source": [
    "ccm_models = []\n",
    "stats = []\n",
    "\n",
    "for threshold in thresholds_list:\n",
    "    # filter by topic\n",
    "    topic_relevancy_filtered_by_t = df_saopaulo_2021_jan.loc[(topic_similarities[0] >= threshold).numpy()]\n",
    "    # then group count by date\n",
    "    by_date = topic_relevancy_filtered_by_t['date_time'].apply(lambda row: row[:10])\n",
    "    \n",
    "    # get time series of amount of tweet with sufficiently close topic vector per day\n",
    "    topic_tweet_per_day = by_date.value_counts(sort=False).to_numpy()\n",
    "    \n",
    "    X = topic_tweet_per_day\n",
    "    Y = df_bed_usage_sp_icu\n",
    "    \n",
    "    if X.shape != Y.shape:\n",
    "        continue\n",
    "    \n",
    "    # inputs\n",
    "    tau = 1 # time lag\n",
    "    E = 2 # shadow manifold embedding dimensions\n",
    "    L = len(X) # length of time period to consider\n",
    "\n",
    "    # if we wish to check if X causes Y\n",
    "    ccm_cur = ccm(X, Y, tau, E, L)\n",
    "    \n",
    "    # causality X -> Y\n",
    "    # returns: (correlation (\"strength\" of causality), p-value(significance))\n",
    "    corr_, p = ccm_cur.causality()\n",
    "    \n",
    "    ccm_models.append(ccm_cur)\n",
    "    stats.append((corr_, p))\n",
    "    \n",
    "    print(\"threshold: %0.2f\" % threshold, \"corr =\", corr_, \"p =\", p)"
   ]
  },
  {
   "cell_type": "code",
   "execution_count": null,
   "id": "6da1bd3f-5b73-4605-b8a6-c853d060aa70",
   "metadata": {},
   "outputs": [],
   "source": []
  },
  {
   "cell_type": "code",
   "execution_count": null,
   "id": "41c49a7f-38ce-4657-b17a-46b2299a7873",
   "metadata": {},
   "outputs": [],
   "source": []
  }
 ],
 "metadata": {
  "kernelspec": {
   "display_name": "Python 3 (ipykernel)",
   "language": "python",
   "name": "python3"
  },
  "language_info": {
   "codemirror_mode": {
    "name": "ipython",
    "version": 3
   },
   "file_extension": ".py",
   "mimetype": "text/x-python",
   "name": "python",
   "nbconvert_exporter": "python",
   "pygments_lexer": "ipython3",
   "version": "3.10.8"
  }
 },
 "nbformat": 4,
 "nbformat_minor": 5
}
