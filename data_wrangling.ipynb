{
 "cells": [
  {
   "cell_type": "code",
   "execution_count": 1,
   "metadata": {},
   "outputs": [],
   "source": [
    "import pandas as pd\n",
    "import numpy as np"
   ]
  },
  {
   "cell_type": "code",
   "execution_count": 2,
   "metadata": {},
   "outputs": [],
   "source": [
    "states = [\"Alabama\",\n",
    "\"Alaska\",\n",
    "\"Arizona\",\n",
    "\"Arkansas\",\n",
    "\"California\",\n",
    "\"Colorado\",\n",
    "\"Connecticut\",\n",
    "\"Delaware\",\n",
    "\"Florida\",\n",
    "\"Georgia\",\n",
    "\"Hawaii\",\n",
    "\"Idaho\",\n",
    "\"Illinois\",\n",
    "\"Indiana\",\n",
    "\"Iowa\",\n",
    "\"Kansas\",\n",
    "\"Kentucky\",\n",
    "\"Louisiana\",\n",
    "\"Maine\",\n",
    "\"Maryland\",\n",
    "\"Massachusetts\",\n",
    "\"Michigan\",\n",
    "\"Minnesota\",\n",
    "\"Mississippi\",\n",
    "\"Missouri\",\n",
    "\"Montana\",\n",
    "\"Nebraska\",\n",
    "\"Nevada\",\n",
    "\"New Hampshire\",\n",
    "\"New Jersey\",\n",
    "\"New Mexico\",\n",
    "\"New York\",\n",
    "\"North Carolina\",\n",
    "\"North Dakota\",\n",
    "\"Ohio\",\n",
    "\"Oklahoma\",\n",
    "\"Oregon\",\n",
    "\"Pennsylvania\",\n",
    "\"Rhode Island\",\n",
    "\"South Carolina\",\n",
    "\"South Dakota\",\n",
    "\"Tennessee\",\n",
    "\"Texas\",\n",
    "\"Utah\",\n",
    "\"Vermont\",\n",
    "\"Virginia\",\n",
    "\"Washington\",\n",
    "\"West Virginia\",\n",
    "\"Wisconsin\",\n",
    "\"Wyoming\"]"
   ]
  },
  {
   "cell_type": "code",
   "execution_count": 4,
   "metadata": {},
   "outputs": [
    {
     "name": "stderr",
     "output_type": "stream",
     "text": [
      "C:\\Users\\minhv\\AppData\\Local\\Temp\\ipykernel_21376\\1738242931.py:1: DtypeWarning: Columns (12,13,14,15,16) have mixed types. Specify dtype option on import or set low_memory=False.\n",
      "  df = pd.read_csv('tbcov\\\\united_states_of_america_39.tsv', sep='\\t')\n"
     ]
    }
   ],
   "source": [
    "df = pd.read_csv('tbcov\\\\united_states_of_america_39.tsv', sep='\\t')"
   ]
  },
  {
   "cell_type": "code",
   "execution_count": 4,
   "metadata": {},
   "outputs": [],
   "source": [
    "DIRECTORY = \"tbcov_reduce\\\\us\""
   ]
  },
  {
   "cell_type": "code",
   "execution_count": 29,
   "metadata": {},
   "outputs": [],
   "source": [
    "for i in range(9, 10):\n",
    "    df = pd.read_csv(f'tbcov\\\\united_states_of_america_0{i}.tsv', sep='\\t')\n",
    "    df_list = []\n",
    "    for state in states:\n",
    "        df_state = df.query(\"(tweet_text_state == tweet_text_state and tweet_text_state.str.contains(@state)) \\\n",
    "        or place_state == @state \\\n",
    "        or geo_state == @state\", engine='python')[['tweet_id', 'date_time', 'geo_state', 'tweet_text_state', 'place_state', 'sentiment_label']]\n",
    "        df_list.append(df_state)\n",
    "\n",
    "    del df\n",
    "    pd.concat(df_list).drop_duplicates(subset=['tweet_id']).to_csv(f'{DIRECTORY}\\\\us_{i}.csv', index=False)\n",
    "    del df_list"
   ]
  },
  {
   "cell_type": "code",
   "execution_count": 6,
   "metadata": {},
   "outputs": [
    {
     "name": "stderr",
     "output_type": "stream",
     "text": [
      "C:\\Users\\minhv\\AppData\\Local\\Temp\\ipykernel_16828\\4003811730.py:2: DtypeWarning: Columns (12,13,14,15,16) have mixed types. Specify dtype option on import or set low_memory=False.\n",
      "  df = pd.read_csv(f'tbcov\\\\united_states_of_america_{i}.tsv', sep='\\t')\n",
      "C:\\Users\\minhv\\AppData\\Local\\Temp\\ipykernel_16828\\4003811730.py:2: DtypeWarning: Columns (12,13,14,15,16) have mixed types. Specify dtype option on import or set low_memory=False.\n",
      "  df = pd.read_csv(f'tbcov\\\\united_states_of_america_{i}.tsv', sep='\\t')\n",
      "C:\\Users\\minhv\\AppData\\Local\\Temp\\ipykernel_16828\\4003811730.py:2: DtypeWarning: Columns (12,13,14,15,16) have mixed types. Specify dtype option on import or set low_memory=False.\n",
      "  df = pd.read_csv(f'tbcov\\\\united_states_of_america_{i}.tsv', sep='\\t')\n"
     ]
    }
   ],
   "source": [
    "for i in range(37, 40):\n",
    "    df = pd.read_csv(f'tbcov\\\\united_states_of_america_{i:02d}.tsv', sep='\\t')\n",
    "    df_list = []\n",
    "    for state in states:\n",
    "        df_state = df.query(\"(tweet_text_state == tweet_text_state and tweet_text_state.str.contains(@state)) \\\n",
    "        or place_state == @state \\\n",
    "        or geo_state == @state\", engine='python')[['tweet_id', 'date_time', 'geo_state', 'tweet_text_state', 'place_state', 'sentiment_label']]\n",
    "        df_list.append(df_state)\n",
    "\n",
    "    del df\n",
    "    pd.concat(df_list).drop_duplicates(subset=['tweet_id']).to_csv(f'{DIRECTORY}\\\\us_{i}.csv', index=False)\n",
    "    del df_list"
   ]
  },
  {
   "cell_type": "code",
   "execution_count": null,
   "metadata": {},
   "outputs": [],
   "source": [
    "TARGET_DIRECTORY = \"tbcov_reduce\\\\us_states\"\n",
    "\n",
    "for state in states:\n",
    "    df_list = []\n",
    "    for i in range(1, 40):\n",
    "        df = pd.read_csv(f'tbcov_reduce\\\\us\\\\us_{i}.csv')\n",
    "\n",
    "        df_state = df.query(\"(tweet_text_state == tweet_text_state and tweet_text_state.str.contains(@state)) \\\n",
    "        or place_state == @state \\\n",
    "        or geo_state == @state\", engine='python')[['tweet_id', 'date_time', 'geo_state', 'tweet_text_state', 'place_state', 'sentiment_label']]\n",
    "\n",
    "        del df\n",
    "        df_list.append(df_state)\n",
    "\n",
    "    pd.concat(df_list).drop_duplicates(subset=['tweet_id']).to_csv(f'{DIRECTORY}\\\\us_{state}.csv', index=False)\n",
    "    del df_list\n",
    "\n",
    "    "
   ]
  },
  {
   "cell_type": "code",
   "execution_count": null,
   "metadata": {},
   "outputs": [],
   "source": []
  }
 ],
 "metadata": {
  "kernelspec": {
   "display_name": "venv",
   "language": "python",
   "name": "python3"
  },
  "language_info": {
   "codemirror_mode": {
    "name": "ipython",
    "version": 3
   },
   "file_extension": ".py",
   "mimetype": "text/x-python",
   "name": "python",
   "nbconvert_exporter": "python",
   "pygments_lexer": "ipython3",
   "version": "3.10.8"
  },
  "orig_nbformat": 4
 },
 "nbformat": 4,
 "nbformat_minor": 2
}
